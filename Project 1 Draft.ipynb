{
 "cells": [
  {
   "cell_type": "markdown",
   "metadata": {},
   "source": [
    "# Analyze and Visualize Solar Installations in the USA\n",
    "## Map against unemployment and sunniness by county"
   ]
  },
  {
   "cell_type": "code",
   "execution_count": 2,
   "metadata": {},
   "outputs": [],
   "source": [
    "# Import dependencies\n",
    "import pandas as pd\n",
    "import numpy as np\n",
    "import requests\n",
    "import gmaps\n",
    "import matplotlib.pyplot as plt\n",
    "from census import Census\n",
    "from us import states\n",
    "from api_keys import census_key, gov_key, gkey"
   ]
  },
  {
   "cell_type": "code",
   "execution_count": 3,
   "metadata": {},
   "outputs": [],
   "source": [
    "# Set up API wrappers with API keys\n",
    "gmaps.configure(api_key=gkey)"
   ]
  },
  {
   "cell_type": "code",
   "execution_count": 4,
   "metadata": {},
   "outputs": [],
   "source": [
    "c = Census(census_key, year=2016)"
   ]
  },
  {
   "cell_type": "code",
   "execution_count": 5,
   "metadata": {
    "scrolled": true
   },
   "outputs": [],
   "source": [
    "# Download population and unemployment by state and county\n",
    "census_data = c.acs5.get((\"NAME\", \"B19013_001E\", \"B01003_001E\", \"B01002_001E\",\n",
    "                          \"B19301_001E\",\n",
    "                          \"B17001_002E\",\"B23025_005E\"), {'for': 'county:*'})"
   ]
  },
  {
   "cell_type": "code",
   "execution_count": 6,
   "metadata": {},
   "outputs": [
    {
     "data": {
      "text/plain": [
       "{'NAME': 'Autauga County, Alabama',\n",
       " 'B19013_001E': 53099.0,\n",
       " 'B01003_001E': 55049.0,\n",
       " 'B01002_001E': 37.8,\n",
       " 'B19301_001E': 26168.0,\n",
       " 'B17001_002E': 6697.0,\n",
       " 'B23025_005E': 1437.0,\n",
       " 'state': '01',\n",
       " 'county': '001'}"
      ]
     },
     "execution_count": 6,
     "metadata": {},
     "output_type": "execute_result"
    }
   ],
   "source": [
    "# Look at the first data point\n",
    "census_data[0]"
   ]
  },
  {
   "cell_type": "code",
   "execution_count": 7,
   "metadata": {},
   "outputs": [
    {
     "name": "stdout",
     "output_type": "stream",
     "text": [
      "3220\n"
     ]
    },
    {
     "data": {
      "text/html": [
       "<div>\n",
       "<style scoped>\n",
       "    .dataframe tbody tr th:only-of-type {\n",
       "        vertical-align: middle;\n",
       "    }\n",
       "\n",
       "    .dataframe tbody tr th {\n",
       "        vertical-align: top;\n",
       "    }\n",
       "\n",
       "    .dataframe thead th {\n",
       "        text-align: right;\n",
       "    }\n",
       "</style>\n",
       "<table border=\"1\" class=\"dataframe\">\n",
       "  <thead>\n",
       "    <tr style=\"text-align: right;\">\n",
       "      <th></th>\n",
       "      <th>State</th>\n",
       "      <th>County</th>\n",
       "      <th>Population</th>\n",
       "      <th>Median Age</th>\n",
       "      <th>Household Income</th>\n",
       "      <th>Per Capita Income</th>\n",
       "      <th>Poverty Count</th>\n",
       "      <th>Poverty Rate</th>\n",
       "      <th>Unemployment Rate</th>\n",
       "    </tr>\n",
       "  </thead>\n",
       "  <tbody>\n",
       "    <tr>\n",
       "      <th>0</th>\n",
       "      <td>01</td>\n",
       "      <td>001</td>\n",
       "      <td>55049.0</td>\n",
       "      <td>37.8</td>\n",
       "      <td>53099.0</td>\n",
       "      <td>26168.0</td>\n",
       "      <td>6697.0</td>\n",
       "      <td>0.121655</td>\n",
       "      <td>0.026104</td>\n",
       "    </tr>\n",
       "    <tr>\n",
       "      <th>1</th>\n",
       "      <td>01</td>\n",
       "      <td>003</td>\n",
       "      <td>199510.0</td>\n",
       "      <td>42.3</td>\n",
       "      <td>51365.0</td>\n",
       "      <td>28069.0</td>\n",
       "      <td>25551.0</td>\n",
       "      <td>0.128069</td>\n",
       "      <td>0.029507</td>\n",
       "    </tr>\n",
       "    <tr>\n",
       "      <th>2</th>\n",
       "      <td>01</td>\n",
       "      <td>005</td>\n",
       "      <td>26614.0</td>\n",
       "      <td>38.7</td>\n",
       "      <td>33956.0</td>\n",
       "      <td>17249.0</td>\n",
       "      <td>6235.0</td>\n",
       "      <td>0.234275</td>\n",
       "      <td>0.049711</td>\n",
       "    </tr>\n",
       "    <tr>\n",
       "      <th>3</th>\n",
       "      <td>01</td>\n",
       "      <td>007</td>\n",
       "      <td>22572.0</td>\n",
       "      <td>40.2</td>\n",
       "      <td>39776.0</td>\n",
       "      <td>18988.0</td>\n",
       "      <td>3390.0</td>\n",
       "      <td>0.150186</td>\n",
       "      <td>0.028487</td>\n",
       "    </tr>\n",
       "    <tr>\n",
       "      <th>4</th>\n",
       "      <td>01</td>\n",
       "      <td>009</td>\n",
       "      <td>57704.0</td>\n",
       "      <td>40.8</td>\n",
       "      <td>46212.0</td>\n",
       "      <td>21033.0</td>\n",
       "      <td>9441.0</td>\n",
       "      <td>0.163611</td>\n",
       "      <td>0.023690</td>\n",
       "    </tr>\n",
       "  </tbody>\n",
       "</table>\n",
       "</div>"
      ],
      "text/plain": [
       "  State County  Population  Median Age  Household Income  Per Capita Income  \\\n",
       "0    01    001     55049.0        37.8           53099.0            26168.0   \n",
       "1    01    003    199510.0        42.3           51365.0            28069.0   \n",
       "2    01    005     26614.0        38.7           33956.0            17249.0   \n",
       "3    01    007     22572.0        40.2           39776.0            18988.0   \n",
       "4    01    009     57704.0        40.8           46212.0            21033.0   \n",
       "\n",
       "   Poverty Count  Poverty Rate  Unemployment Rate  \n",
       "0         6697.0      0.121655           0.026104  \n",
       "1        25551.0      0.128069           0.029507  \n",
       "2         6235.0      0.234275           0.049711  \n",
       "3         3390.0      0.150186           0.028487  \n",
       "4         9441.0      0.163611           0.023690  "
      ]
     },
     "execution_count": 7,
     "metadata": {},
     "output_type": "execute_result"
    }
   ],
   "source": [
    "# Convert to DataFrame\n",
    "census_pd = pd.DataFrame(census_data)\n",
    "\n",
    "# Column Reordering\n",
    "census_pd = census_pd.rename(columns={\"B01003_001E\": \"Population\",\n",
    "                                      \"B01002_001E\": \"Median Age\",\n",
    "                                      \"B19013_001E\": \"Household Income\",\n",
    "                                      \"B19301_001E\": \"Per Capita Income\",\n",
    "                                      \"B17001_002E\": \"Poverty Count\",\n",
    "                                      \"B23025_005E\": \"Unemployment\",\n",
    "                                      \"NAME\": \"Name\", \"state\": \"State\", \"county\":\"County\"})\n",
    "\n",
    "# Add in Poverty Rate (Poverty Count / Population)\n",
    "census_pd[\"Poverty Rate\"] = census_pd[\"Poverty Count\"].astype(\n",
    "        int) / census_pd[\"Population\"].astype(int)\n",
    "\n",
    "# Add in Unemployment Rate\n",
    "census_pd['Unemployment Rate'] = census_pd['Unemployment'].astype(int) / census_pd['Population'].astype(int)\n",
    "# Final DataFrame\n",
    "census_pd = census_pd[[\"State\", \"County\", \"Population\", \"Median Age\", \"Household Income\",\n",
    "                       \"Per Capita Income\", \"Poverty Count\", \"Poverty Rate\",'Unemployment Rate']]\n",
    "\n",
    "# Visualize\n",
    "print(len(census_pd))\n",
    "census_pd.head()"
   ]
  },
  {
   "cell_type": "code",
   "execution_count": 8,
   "metadata": {},
   "outputs": [
    {
     "data": {
      "text/html": [
       "<div>\n",
       "<style scoped>\n",
       "    .dataframe tbody tr th:only-of-type {\n",
       "        vertical-align: middle;\n",
       "    }\n",
       "\n",
       "    .dataframe tbody tr th {\n",
       "        vertical-align: top;\n",
       "    }\n",
       "\n",
       "    .dataframe thead th {\n",
       "        text-align: right;\n",
       "    }\n",
       "</style>\n",
       "<table border=\"1\" class=\"dataframe\">\n",
       "  <thead>\n",
       "    <tr style=\"text-align: right;\">\n",
       "      <th></th>\n",
       "      <th>State</th>\n",
       "      <th>County</th>\n",
       "      <th>Population</th>\n",
       "      <th>Median Age</th>\n",
       "      <th>Household Income</th>\n",
       "      <th>Per Capita Income</th>\n",
       "      <th>Poverty Count</th>\n",
       "      <th>Poverty Rate</th>\n",
       "      <th>Unemployment Rate</th>\n",
       "    </tr>\n",
       "  </thead>\n",
       "  <tbody>\n",
       "    <tr>\n",
       "      <th>2376</th>\n",
       "      <td>46</td>\n",
       "      <td>031</td>\n",
       "      <td>4170.0</td>\n",
       "      <td>29.7</td>\n",
       "      <td>32115.0</td>\n",
       "      <td>13830.0</td>\n",
       "      <td>1929.0</td>\n",
       "      <td>0.462590</td>\n",
       "      <td>0.128537</td>\n",
       "    </tr>\n",
       "    <tr>\n",
       "      <th>2427</th>\n",
       "      <td>46</td>\n",
       "      <td>137</td>\n",
       "      <td>2818.0</td>\n",
       "      <td>28.3</td>\n",
       "      <td>36552.0</td>\n",
       "      <td>14047.0</td>\n",
       "      <td>1106.0</td>\n",
       "      <td>0.392477</td>\n",
       "      <td>0.128460</td>\n",
       "    </tr>\n",
       "    <tr>\n",
       "      <th>3158</th>\n",
       "      <td>72</td>\n",
       "      <td>033</td>\n",
       "      <td>26137.0</td>\n",
       "      <td>37.8</td>\n",
       "      <td>18562.0</td>\n",
       "      <td>11039.0</td>\n",
       "      <td>12829.0</td>\n",
       "      <td>0.490837</td>\n",
       "      <td>0.125187</td>\n",
       "    </tr>\n",
       "    <tr>\n",
       "      <th>3183</th>\n",
       "      <td>72</td>\n",
       "      <td>081</td>\n",
       "      <td>28052.0</td>\n",
       "      <td>40.4</td>\n",
       "      <td>12410.0</td>\n",
       "      <td>7958.0</td>\n",
       "      <td>15984.0</td>\n",
       "      <td>0.569799</td>\n",
       "      <td>0.124626</td>\n",
       "    </tr>\n",
       "    <tr>\n",
       "      <th>3142</th>\n",
       "      <td>72</td>\n",
       "      <td>001</td>\n",
       "      <td>18760.0</td>\n",
       "      <td>38.9</td>\n",
       "      <td>11296.0</td>\n",
       "      <td>7124.0</td>\n",
       "      <td>11791.0</td>\n",
       "      <td>0.628518</td>\n",
       "      <td>0.120309</td>\n",
       "    </tr>\n",
       "    <tr>\n",
       "      <th>2381</th>\n",
       "      <td>46</td>\n",
       "      <td>041</td>\n",
       "      <td>5652.0</td>\n",
       "      <td>28.5</td>\n",
       "      <td>40585.0</td>\n",
       "      <td>16305.0</td>\n",
       "      <td>1545.0</td>\n",
       "      <td>0.273355</td>\n",
       "      <td>0.111642</td>\n",
       "    </tr>\n",
       "    <tr>\n",
       "      <th>3168</th>\n",
       "      <td>72</td>\n",
       "      <td>053</td>\n",
       "      <td>33912.0</td>\n",
       "      <td>39.8</td>\n",
       "      <td>19482.0</td>\n",
       "      <td>10784.0</td>\n",
       "      <td>14866.0</td>\n",
       "      <td>0.438370</td>\n",
       "      <td>0.110698</td>\n",
       "    </tr>\n",
       "    <tr>\n",
       "      <th>3187</th>\n",
       "      <td>72</td>\n",
       "      <td>089</td>\n",
       "      <td>19237.0</td>\n",
       "      <td>39.6</td>\n",
       "      <td>19658.0</td>\n",
       "      <td>10617.0</td>\n",
       "      <td>8450.0</td>\n",
       "      <td>0.439258</td>\n",
       "      <td>0.108333</td>\n",
       "    </tr>\n",
       "    <tr>\n",
       "      <th>1460</th>\n",
       "      <td>28</td>\n",
       "      <td>119</td>\n",
       "      <td>7634.0</td>\n",
       "      <td>39.0</td>\n",
       "      <td>24835.0</td>\n",
       "      <td>14928.0</td>\n",
       "      <td>2799.0</td>\n",
       "      <td>0.366649</td>\n",
       "      <td>0.103877</td>\n",
       "    </tr>\n",
       "    <tr>\n",
       "      <th>3186</th>\n",
       "      <td>72</td>\n",
       "      <td>087</td>\n",
       "      <td>27857.0</td>\n",
       "      <td>36.5</td>\n",
       "      <td>18154.0</td>\n",
       "      <td>8694.0</td>\n",
       "      <td>13785.0</td>\n",
       "      <td>0.494849</td>\n",
       "      <td>0.103493</td>\n",
       "    </tr>\n",
       "    <tr>\n",
       "      <th>257</th>\n",
       "      <td>08</td>\n",
       "      <td>025</td>\n",
       "      <td>5537.0</td>\n",
       "      <td>39.6</td>\n",
       "      <td>31719.0</td>\n",
       "      <td>12513.0</td>\n",
       "      <td>1479.0</td>\n",
       "      <td>0.267112</td>\n",
       "      <td>0.102583</td>\n",
       "    </tr>\n",
       "    <tr>\n",
       "      <th>3181</th>\n",
       "      <td>72</td>\n",
       "      <td>077</td>\n",
       "      <td>39942.0</td>\n",
       "      <td>37.1</td>\n",
       "      <td>19084.0</td>\n",
       "      <td>9282.0</td>\n",
       "      <td>19558.0</td>\n",
       "      <td>0.489660</td>\n",
       "      <td>0.100471</td>\n",
       "    </tr>\n",
       "    <tr>\n",
       "      <th>1427</th>\n",
       "      <td>28</td>\n",
       "      <td>053</td>\n",
       "      <td>8822.0</td>\n",
       "      <td>35.6</td>\n",
       "      <td>23442.0</td>\n",
       "      <td>13977.0</td>\n",
       "      <td>3706.0</td>\n",
       "      <td>0.420086</td>\n",
       "      <td>0.099751</td>\n",
       "    </tr>\n",
       "    <tr>\n",
       "      <th>1463</th>\n",
       "      <td>28</td>\n",
       "      <td>125</td>\n",
       "      <td>4662.0</td>\n",
       "      <td>38.7</td>\n",
       "      <td>28878.0</td>\n",
       "      <td>15430.0</td>\n",
       "      <td>1435.0</td>\n",
       "      <td>0.307808</td>\n",
       "      <td>0.098456</td>\n",
       "    </tr>\n",
       "    <tr>\n",
       "      <th>3202</th>\n",
       "      <td>72</td>\n",
       "      <td>119</td>\n",
       "      <td>52479.0</td>\n",
       "      <td>39.6</td>\n",
       "      <td>22990.0</td>\n",
       "      <td>10648.0</td>\n",
       "      <td>19400.0</td>\n",
       "      <td>0.369672</td>\n",
       "      <td>0.097811</td>\n",
       "    </tr>\n",
       "    <tr>\n",
       "      <th>86</th>\n",
       "      <td>02</td>\n",
       "      <td>188</td>\n",
       "      <td>7723.0</td>\n",
       "      <td>26.3</td>\n",
       "      <td>61341.0</td>\n",
       "      <td>21028.0</td>\n",
       "      <td>1874.0</td>\n",
       "      <td>0.242652</td>\n",
       "      <td>0.096983</td>\n",
       "    </tr>\n",
       "    <tr>\n",
       "      <th>81</th>\n",
       "      <td>02</td>\n",
       "      <td>158</td>\n",
       "      <td>7993.0</td>\n",
       "      <td>23.3</td>\n",
       "      <td>38160.0</td>\n",
       "      <td>11701.0</td>\n",
       "      <td>2862.0</td>\n",
       "      <td>0.358063</td>\n",
       "      <td>0.096710</td>\n",
       "    </tr>\n",
       "    <tr>\n",
       "      <th>3217</th>\n",
       "      <td>72</td>\n",
       "      <td>149</td>\n",
       "      <td>24186.0</td>\n",
       "      <td>36.9</td>\n",
       "      <td>18974.0</td>\n",
       "      <td>8733.0</td>\n",
       "      <td>12185.0</td>\n",
       "      <td>0.503804</td>\n",
       "      <td>0.094931</td>\n",
       "    </tr>\n",
       "    <tr>\n",
       "      <th>1414</th>\n",
       "      <td>28</td>\n",
       "      <td>027</td>\n",
       "      <td>24804.0</td>\n",
       "      <td>33.9</td>\n",
       "      <td>28217.0</td>\n",
       "      <td>16066.0</td>\n",
       "      <td>8541.0</td>\n",
       "      <td>0.344340</td>\n",
       "      <td>0.092485</td>\n",
       "    </tr>\n",
       "    <tr>\n",
       "      <th>3208</th>\n",
       "      <td>72</td>\n",
       "      <td>131</td>\n",
       "      <td>39755.0</td>\n",
       "      <td>41.3</td>\n",
       "      <td>13866.0</td>\n",
       "      <td>7578.0</td>\n",
       "      <td>22387.0</td>\n",
       "      <td>0.563124</td>\n",
       "      <td>0.090856</td>\n",
       "    </tr>\n",
       "  </tbody>\n",
       "</table>\n",
       "</div>"
      ],
      "text/plain": [
       "     State County  Population  Median Age  Household Income  \\\n",
       "2376    46    031      4170.0        29.7           32115.0   \n",
       "2427    46    137      2818.0        28.3           36552.0   \n",
       "3158    72    033     26137.0        37.8           18562.0   \n",
       "3183    72    081     28052.0        40.4           12410.0   \n",
       "3142    72    001     18760.0        38.9           11296.0   \n",
       "2381    46    041      5652.0        28.5           40585.0   \n",
       "3168    72    053     33912.0        39.8           19482.0   \n",
       "3187    72    089     19237.0        39.6           19658.0   \n",
       "1460    28    119      7634.0        39.0           24835.0   \n",
       "3186    72    087     27857.0        36.5           18154.0   \n",
       "257     08    025      5537.0        39.6           31719.0   \n",
       "3181    72    077     39942.0        37.1           19084.0   \n",
       "1427    28    053      8822.0        35.6           23442.0   \n",
       "1463    28    125      4662.0        38.7           28878.0   \n",
       "3202    72    119     52479.0        39.6           22990.0   \n",
       "86      02    188      7723.0        26.3           61341.0   \n",
       "81      02    158      7993.0        23.3           38160.0   \n",
       "3217    72    149     24186.0        36.9           18974.0   \n",
       "1414    28    027     24804.0        33.9           28217.0   \n",
       "3208    72    131     39755.0        41.3           13866.0   \n",
       "\n",
       "      Per Capita Income  Poverty Count  Poverty Rate  Unemployment Rate  \n",
       "2376            13830.0         1929.0      0.462590           0.128537  \n",
       "2427            14047.0         1106.0      0.392477           0.128460  \n",
       "3158            11039.0        12829.0      0.490837           0.125187  \n",
       "3183             7958.0        15984.0      0.569799           0.124626  \n",
       "3142             7124.0        11791.0      0.628518           0.120309  \n",
       "2381            16305.0         1545.0      0.273355           0.111642  \n",
       "3168            10784.0        14866.0      0.438370           0.110698  \n",
       "3187            10617.0         8450.0      0.439258           0.108333  \n",
       "1460            14928.0         2799.0      0.366649           0.103877  \n",
       "3186             8694.0        13785.0      0.494849           0.103493  \n",
       "257             12513.0         1479.0      0.267112           0.102583  \n",
       "3181             9282.0        19558.0      0.489660           0.100471  \n",
       "1427            13977.0         3706.0      0.420086           0.099751  \n",
       "1463            15430.0         1435.0      0.307808           0.098456  \n",
       "3202            10648.0        19400.0      0.369672           0.097811  \n",
       "86              21028.0         1874.0      0.242652           0.096983  \n",
       "81              11701.0         2862.0      0.358063           0.096710  \n",
       "3217             8733.0        12185.0      0.503804           0.094931  \n",
       "1414            16066.0         8541.0      0.344340           0.092485  \n",
       "3208             7578.0        22387.0      0.563124           0.090856  "
      ]
     },
     "execution_count": 8,
     "metadata": {},
     "output_type": "execute_result"
    }
   ],
   "source": [
    "# Investigate counties with very high unemployment rates\n",
    "\n",
    "census_pd.sort_values('Unemployment Rate', ascending=False).head(20)"
   ]
  },
  {
   "cell_type": "code",
   "execution_count": 9,
   "metadata": {},
   "outputs": [],
   "source": [
    "# Import ZIP code location info from http://download.geonames.org/export/zip/\n",
    "zip_code_info = pd.read_csv('/Users/seantibbitts/Downloads/US/US.txt', sep = '\\t', header=None, dtype={1:str},\n",
    "                            names=['Country','zipcode','City','State','State Code','Unk1','Unk2','Unk3','Unk4','Lat','Lng','Unk5'])"
   ]
  },
  {
   "cell_type": "code",
   "execution_count": 10,
   "metadata": {
    "scrolled": true
   },
   "outputs": [
    {
     "data": {
      "text/html": [
       "<div>\n",
       "<style scoped>\n",
       "    .dataframe tbody tr th:only-of-type {\n",
       "        vertical-align: middle;\n",
       "    }\n",
       "\n",
       "    .dataframe tbody tr th {\n",
       "        vertical-align: top;\n",
       "    }\n",
       "\n",
       "    .dataframe thead th {\n",
       "        text-align: right;\n",
       "    }\n",
       "</style>\n",
       "<table border=\"1\" class=\"dataframe\">\n",
       "  <thead>\n",
       "    <tr style=\"text-align: right;\">\n",
       "      <th></th>\n",
       "      <th>Country</th>\n",
       "      <th>zipcode</th>\n",
       "      <th>City</th>\n",
       "      <th>State</th>\n",
       "      <th>State Code</th>\n",
       "      <th>Unk1</th>\n",
       "      <th>Unk2</th>\n",
       "      <th>Unk3</th>\n",
       "      <th>Unk4</th>\n",
       "      <th>Lat</th>\n",
       "      <th>Lng</th>\n",
       "      <th>Unk5</th>\n",
       "    </tr>\n",
       "  </thead>\n",
       "  <tbody>\n",
       "    <tr>\n",
       "      <th>0</th>\n",
       "      <td>US</td>\n",
       "      <td>99553</td>\n",
       "      <td>Akutan</td>\n",
       "      <td>Alaska</td>\n",
       "      <td>AK</td>\n",
       "      <td>Aleutians East</td>\n",
       "      <td>13.0</td>\n",
       "      <td>NaN</td>\n",
       "      <td>NaN</td>\n",
       "      <td>54.1430</td>\n",
       "      <td>-165.7854</td>\n",
       "      <td>1.0</td>\n",
       "    </tr>\n",
       "    <tr>\n",
       "      <th>1</th>\n",
       "      <td>US</td>\n",
       "      <td>99571</td>\n",
       "      <td>Cold Bay</td>\n",
       "      <td>Alaska</td>\n",
       "      <td>AK</td>\n",
       "      <td>Aleutians East</td>\n",
       "      <td>13.0</td>\n",
       "      <td>NaN</td>\n",
       "      <td>NaN</td>\n",
       "      <td>55.1858</td>\n",
       "      <td>-162.7211</td>\n",
       "      <td>1.0</td>\n",
       "    </tr>\n",
       "    <tr>\n",
       "      <th>2</th>\n",
       "      <td>US</td>\n",
       "      <td>99583</td>\n",
       "      <td>False Pass</td>\n",
       "      <td>Alaska</td>\n",
       "      <td>AK</td>\n",
       "      <td>Aleutians East</td>\n",
       "      <td>13.0</td>\n",
       "      <td>NaN</td>\n",
       "      <td>NaN</td>\n",
       "      <td>54.8542</td>\n",
       "      <td>-163.4113</td>\n",
       "      <td>1.0</td>\n",
       "    </tr>\n",
       "    <tr>\n",
       "      <th>3</th>\n",
       "      <td>US</td>\n",
       "      <td>99612</td>\n",
       "      <td>King Cove</td>\n",
       "      <td>Alaska</td>\n",
       "      <td>AK</td>\n",
       "      <td>Aleutians East</td>\n",
       "      <td>13.0</td>\n",
       "      <td>NaN</td>\n",
       "      <td>NaN</td>\n",
       "      <td>55.0628</td>\n",
       "      <td>-162.3056</td>\n",
       "      <td>1.0</td>\n",
       "    </tr>\n",
       "    <tr>\n",
       "      <th>4</th>\n",
       "      <td>US</td>\n",
       "      <td>99661</td>\n",
       "      <td>Sand Point</td>\n",
       "      <td>Alaska</td>\n",
       "      <td>AK</td>\n",
       "      <td>Aleutians East</td>\n",
       "      <td>13.0</td>\n",
       "      <td>NaN</td>\n",
       "      <td>NaN</td>\n",
       "      <td>55.3192</td>\n",
       "      <td>-160.4914</td>\n",
       "      <td>1.0</td>\n",
       "    </tr>\n",
       "  </tbody>\n",
       "</table>\n",
       "</div>"
      ],
      "text/plain": [
       "  Country zipcode        City   State State Code            Unk1  Unk2 Unk3  \\\n",
       "0      US   99553      Akutan  Alaska         AK  Aleutians East  13.0  NaN   \n",
       "1      US   99571    Cold Bay  Alaska         AK  Aleutians East  13.0  NaN   \n",
       "2      US   99583  False Pass  Alaska         AK  Aleutians East  13.0  NaN   \n",
       "3      US   99612   King Cove  Alaska         AK  Aleutians East  13.0  NaN   \n",
       "4      US   99661  Sand Point  Alaska         AK  Aleutians East  13.0  NaN   \n",
       "\n",
       "   Unk4      Lat       Lng  Unk5  \n",
       "0   NaN  54.1430 -165.7854   1.0  \n",
       "1   NaN  55.1858 -162.7211   1.0  \n",
       "2   NaN  54.8542 -163.4113   1.0  \n",
       "3   NaN  55.0628 -162.3056   1.0  \n",
       "4   NaN  55.3192 -160.4914   1.0  "
      ]
     },
     "execution_count": 10,
     "metadata": {},
     "output_type": "execute_result"
    }
   ],
   "source": [
    "zip_code_info.head()"
   ]
  },
  {
   "cell_type": "code",
   "execution_count": 11,
   "metadata": {},
   "outputs": [
    {
     "data": {
      "text/plain": [
       "Country        object\n",
       "zipcode        object\n",
       "City           object\n",
       "State          object\n",
       "State Code     object\n",
       "Unk1           object\n",
       "Unk2          float64\n",
       "Unk3           object\n",
       "Unk4          float64\n",
       "Lat           float64\n",
       "Lng           float64\n",
       "Unk5          float64\n",
       "dtype: object"
      ]
     },
     "execution_count": 11,
     "metadata": {},
     "output_type": "execute_result"
    }
   ],
   "source": [
    "zip_code_info.dtypes"
   ]
  },
  {
   "cell_type": "code",
   "execution_count": 12,
   "metadata": {},
   "outputs": [],
   "source": [
    "# Attempt to map counties\n",
    "import gmaps.geojson_geometries"
   ]
  },
  {
   "cell_type": "code",
   "execution_count": 13,
   "metadata": {},
   "outputs": [],
   "source": [
    "counties_geojson = gmaps.geojson_geometries.load_geometry('us-counties')"
   ]
  },
  {
   "cell_type": "code",
   "execution_count": 14,
   "metadata": {
    "scrolled": false
   },
   "outputs": [
    {
     "data": {
      "application/vnd.jupyter.widget-view+json": {
       "model_id": "adac23bd0d2b48d6a9abb3b717b42168",
       "version_major": 2,
       "version_minor": 0
      },
      "text/plain": [
       "Figure(layout=FigureLayout(height='420px'))"
      ]
     },
     "metadata": {},
     "output_type": "display_data"
    }
   ],
   "source": [
    "fig = gmaps.figure()\n",
    "counties_layer = gmaps.geojson_layer(counties_geojson)\n",
    "fig.add_layer(counties_layer)\n",
    "fig"
   ]
  },
  {
   "cell_type": "code",
   "execution_count": 15,
   "metadata": {
    "scrolled": true
   },
   "outputs": [
    {
     "data": {
      "text/plain": [
       "{'type': 'Feature',\n",
       " 'properties': {'GEO_ID': '0500000US01001',\n",
       "  'STATE': '01',\n",
       "  'COUNTY': '001',\n",
       "  'NAME': 'Autauga',\n",
       "  'LSAD': 'County',\n",
       "  'CENSUSAREA': 594.436},\n",
       " 'geometry': {'type': 'Polygon',\n",
       "  'coordinates': [[[-86.496774, 32.344437],\n",
       "    [-86.717897, 32.402814],\n",
       "    [-86.814912, 32.340803],\n",
       "    [-86.890581, 32.502974],\n",
       "    [-86.917595, 32.664169],\n",
       "    [-86.71339, 32.661732],\n",
       "    [-86.714219, 32.705694],\n",
       "    [-86.413116, 32.707386],\n",
       "    [-86.411172, 32.409937],\n",
       "    [-86.496774, 32.344437]]]}}"
      ]
     },
     "execution_count": 15,
     "metadata": {},
     "output_type": "execute_result"
    }
   ],
   "source": [
    "counties_geojson['features'][0]"
   ]
  },
  {
   "cell_type": "code",
   "execution_count": 16,
   "metadata": {},
   "outputs": [],
   "source": [
    "# Create a map from state, county to per capita income\n",
    "county2income = {(row['State'],row['County']):row['Per Capita Income'] for i, row in census_pd.iterrows()}"
   ]
  },
  {
   "cell_type": "code",
   "execution_count": 17,
   "metadata": {},
   "outputs": [
    {
     "data": {
      "text/plain": [
       "24443.0"
      ]
     },
     "execution_count": 17,
     "metadata": {},
     "output_type": "execute_result"
    }
   ],
   "source": [
    "county2income[('06','065')]"
   ]
  },
  {
   "cell_type": "code",
   "execution_count": 18,
   "metadata": {},
   "outputs": [],
   "source": [
    "# We will need to scale the income values to lie between 0 and 1\n",
    "min_inc = min(county2income.values())\n",
    "max_inc = max(county2income.values())\n",
    "inc_range = max_inc - min_inc"
   ]
  },
  {
   "cell_type": "code",
   "execution_count": 19,
   "metadata": {},
   "outputs": [],
   "source": [
    "from matplotlib.cm import Greens\n",
    "from matplotlib.colors import to_hex\n",
    "\n",
    "def calculate_income(inc):\n",
    "    # make income a number between 0 and 1\n",
    "    normalized_inc = (inc - min_inc) / inc_range\n",
    "    \n",
    "    # transform the unemployment rate to a matplotlib color\n",
    "    mpl_color = Greens(normalized_inc)\n",
    "\n",
    "    # transform from a matplotlib color to a valid CSS color\n",
    "    gmaps_color = to_hex(mpl_color, keep_alpha=False)\n",
    "\n",
    "    return gmaps_color"
   ]
  },
  {
   "cell_type": "code",
   "execution_count": 20,
   "metadata": {},
   "outputs": [],
   "source": [
    "# Need to map each county to a color\n",
    "inc_colors = []\n",
    "\n",
    "for feature in counties_geojson['features']:\n",
    "    state = feature['properties']['STATE']\n",
    "    county = feature['properties']['COUNTY']\n",
    "    try:\n",
    "        inc = county2income[(state,county)]\n",
    "        color = calculate_income(inc)\n",
    "    except KeyError:\n",
    "        # no UR for that county: return default color\n",
    "        color = (0, 0, 0, 0.3)\n",
    "    inc_colors.append(color)"
   ]
  },
  {
   "cell_type": "code",
   "execution_count": 21,
   "metadata": {},
   "outputs": [
    {
     "data": {
      "application/vnd.jupyter.widget-view+json": {
       "model_id": "810095b7330d4b1898c051a78957e6d3",
       "version_major": 2,
       "version_minor": 0
      },
      "text/plain": [
       "Figure(layout=FigureLayout(height='420px'))"
      ]
     },
     "metadata": {},
     "output_type": "display_data"
    }
   ],
   "source": [
    "fig = gmaps.figure(center = (38.8283, -98.5795), zoom_level = 4)\n",
    "counties_layer = gmaps.geojson_layer(counties_geojson, fill_color=inc_colors, stroke_color=inc_colors,\n",
    "                                     fill_opacity=0.8)\n",
    "fig.add_layer(counties_layer)\n",
    "fig"
   ]
  },
  {
   "cell_type": "code",
   "execution_count": 22,
   "metadata": {},
   "outputs": [],
   "source": [
    "# Create a map from state, county to unemployment rate\n",
    "county2unemploy = {(row['State'],row['County']):row['Unemployment Rate'] for i, row in census_pd.iterrows()}"
   ]
  },
  {
   "cell_type": "code",
   "execution_count": 23,
   "metadata": {},
   "outputs": [],
   "source": [
    "# We will need to scale the UR values to lie between 0 and 1\n",
    "min_ur = min(county2unemploy.values())\n",
    "max_ur = max(county2unemploy.values())\n",
    "ur_range = max_ur - min_ur"
   ]
  },
  {
   "cell_type": "code",
   "execution_count": 24,
   "metadata": {},
   "outputs": [],
   "source": [
    "from matplotlib.cm import viridis\n",
    "from matplotlib.colors import to_hex\n",
    "\n",
    "def calculate_color(ur):\n",
    "    # make ur a number between 0 and 1\n",
    "    normalized_ur = (ur - min_ur) / ur_range\n",
    "    \n",
    "    # invert unemployment rate so high unemployment gets a dark color\n",
    "    inverse_ur = 1.0 - normalized_ur\n",
    "    \n",
    "    # transform the unemployment rate to a matplotlib color\n",
    "    mpl_color = viridis(inverse_ur)\n",
    "\n",
    "    # transform from a matplotlib color to a valid CSS color\n",
    "    gmaps_color = to_hex(mpl_color, keep_alpha=False)\n",
    "\n",
    "    return gmaps_color"
   ]
  },
  {
   "cell_type": "code",
   "execution_count": 25,
   "metadata": {},
   "outputs": [],
   "source": [
    "# Need to map each county to a color\n",
    "colors = []\n",
    "\n",
    "for feature in counties_geojson['features']:\n",
    "    state = feature['properties']['STATE']\n",
    "    county = feature['properties']['COUNTY']\n",
    "    try:\n",
    "        ur = county2unemploy[(state,county)]\n",
    "        color = calculate_color(ur)\n",
    "    except KeyError:\n",
    "        # no UR for that county: return default color\n",
    "        color = (0, 0, 0, 0.3)\n",
    "    colors.append(color)"
   ]
  },
  {
   "cell_type": "code",
   "execution_count": 26,
   "metadata": {
    "scrolled": false
   },
   "outputs": [
    {
     "data": {
      "application/vnd.jupyter.widget-view+json": {
       "model_id": "9edce4c4d1ba49d69db354cecd52a464",
       "version_major": 2,
       "version_minor": 0
      },
      "text/plain": [
       "Figure(layout=FigureLayout(height='420px'))"
      ]
     },
     "metadata": {},
     "output_type": "display_data"
    }
   ],
   "source": [
    "fig = gmaps.figure(center = (38.8283, -98.5795), zoom_level = 4)\n",
    "counties_layer = gmaps.geojson_layer(counties_geojson, fill_color=colors, stroke_color=colors, fill_opacity=0.8)\n",
    "fig.add_layer(counties_layer)\n",
    "fig"
   ]
  },
  {
   "cell_type": "code",
   "execution_count": 27,
   "metadata": {},
   "outputs": [],
   "source": [
    "# Create legend for unemployment rate\n",
    "gradient = np.linspace(0, 1, 256)\n",
    "gradient = np.vstack((gradient, gradient))"
   ]
  },
  {
   "cell_type": "code",
   "execution_count": 28,
   "metadata": {},
   "outputs": [
    {
     "data": {
      "image/png": "[encoded data removed]",
      "text/plain": [
       "<Figure size 1440x21.6 with 1 Axes>"
      ]
     },
     "metadata": {
      "needs_background": "light"
     },
     "output_type": "display_data"
    }
   ],
   "source": [
    "fig, ax = plt.subplots(nrows=1, figsize = (20, 0.3))\n",
    "# fig.subplots_adjust(top=0.95, bottom=0.01, left=0.2, right=0.99)\n",
    "ax.imshow(gradient, aspect='auto', cmap=plt.get_cmap('viridis'))\n",
    "pos = list(ax.get_position().bounds)\n",
    "x_text = pos[0] - 0.01\n",
    "y_text = pos[1] + pos[3]/2.\n",
    "fig.text(x_text, y_text, 'High Unemployment', va='center', ha='right', fontsize=10)\n",
    "x_text2 = pos[2] + 0.13\n",
    "fig.text(x_text2, y_text, 'Low Unemployment', va='center', ha='left', fontsize=10)\n",
    "ax.set_axis_off()\n",
    "plt.savefig('viridis.png', bbox_inches='tight')\n",
    "plt.show()"
   ]
  },
  {
   "cell_type": "markdown",
   "metadata": {},
   "source": [
    "### Solar Installs"
   ]
  },
  {
   "cell_type": "code",
   "execution_count": 29,
   "metadata": {
    "scrolled": true
   },
   "outputs": [
    {
     "name": "stderr",
     "output_type": "stream",
     "text": [
      "/anaconda3/lib/python3.7/site-packages/IPython/core/interactiveshell.py:3020: DtypeWarning: Columns (2,5,8,12,13,14,15,16,20,23,25,26,27,28,32,50) have mixed types. Specify dtype option on import or set low_memory=False.\n",
      "  interactivity=interactivity, compiler=compiler, result=result)\n"
     ]
    }
   ],
   "source": [
    "# Import solar installs from https://openpv.nrel.gov/search\n",
    "open_pv = pd.read_csv('/Users/seantibbitts/Downloads/openpv_all.csv', dtype = {'zipcode':str})"
   ]
  },
  {
   "cell_type": "code",
   "execution_count": 30,
   "metadata": {},
   "outputs": [
    {
     "data": {
      "text/html": [
       "<div>\n",
       "<style scoped>\n",
       "    .dataframe tbody tr th:only-of-type {\n",
       "        vertical-align: middle;\n",
       "    }\n",
       "\n",
       "    .dataframe tbody tr th {\n",
       "        vertical-align: top;\n",
       "    }\n",
       "\n",
       "    .dataframe thead th {\n",
       "        text-align: right;\n",
       "    }\n",
       "</style>\n",
       "<table border=\"1\" class=\"dataframe\">\n",
       "  <thead>\n",
       "    <tr style=\"text-align: right;\">\n",
       "      <th></th>\n",
       "      <th>state</th>\n",
       "      <th>date_installed</th>\n",
       "      <th>incentive_prog_names</th>\n",
       "      <th>type</th>\n",
       "      <th>size_kw</th>\n",
       "      <th>appraised</th>\n",
       "      <th>zipcode</th>\n",
       "      <th>install_type</th>\n",
       "      <th>installer</th>\n",
       "      <th>cost_per_watt</th>\n",
       "      <th>...</th>\n",
       "      <th>new_constr</th>\n",
       "      <th>effic_1</th>\n",
       "      <th>cust_county</th>\n",
       "      <th>tracking</th>\n",
       "      <th>inv_model_clean</th>\n",
       "      <th>mod_cost_real</th>\n",
       "      <th>inv_cost_real</th>\n",
       "      <th>bos_powerclerk_real</th>\n",
       "      <th>permitting_real</th>\n",
       "      <th>3rdparty</th>\n",
       "    </tr>\n",
       "  </thead>\n",
       "  <tbody>\n",
       "    <tr>\n",
       "      <th>0</th>\n",
       "      <td>TX</td>\n",
       "      <td>12/12/2013</td>\n",
       "      <td>Austin Energy</td>\n",
       "      <td>uir</td>\n",
       "      <td>10.560</td>\n",
       "      <td>NaN</td>\n",
       "      <td>78702</td>\n",
       "      <td>residential</td>\n",
       "      <td>NaN</td>\n",
       "      <td>2.897777</td>\n",
       "      <td>...</td>\n",
       "      <td>NaN</td>\n",
       "      <td>NaN</td>\n",
       "      <td>NaN</td>\n",
       "      <td>NaN</td>\n",
       "      <td>NaN</td>\n",
       "      <td>NaN</td>\n",
       "      <td>NaN</td>\n",
       "      <td>NaN</td>\n",
       "      <td>NaN</td>\n",
       "      <td>NaN</td>\n",
       "    </tr>\n",
       "    <tr>\n",
       "      <th>1</th>\n",
       "      <td>TX</td>\n",
       "      <td>07/11/2014</td>\n",
       "      <td>Austin Energy</td>\n",
       "      <td>uir</td>\n",
       "      <td>12.720</td>\n",
       "      <td>NaN</td>\n",
       "      <td>78702</td>\n",
       "      <td>residential</td>\n",
       "      <td>NaN</td>\n",
       "      <td>3.144654</td>\n",
       "      <td>...</td>\n",
       "      <td>NaN</td>\n",
       "      <td>NaN</td>\n",
       "      <td>NaN</td>\n",
       "      <td>NaN</td>\n",
       "      <td>NaN</td>\n",
       "      <td>NaN</td>\n",
       "      <td>NaN</td>\n",
       "      <td>NaN</td>\n",
       "      <td>NaN</td>\n",
       "      <td>NaN</td>\n",
       "    </tr>\n",
       "    <tr>\n",
       "      <th>2</th>\n",
       "      <td>TX</td>\n",
       "      <td>01/17/2014</td>\n",
       "      <td>Austin Energy</td>\n",
       "      <td>uir</td>\n",
       "      <td>5.400</td>\n",
       "      <td>NaN</td>\n",
       "      <td>78702</td>\n",
       "      <td>residential</td>\n",
       "      <td>NaN</td>\n",
       "      <td>4.197330</td>\n",
       "      <td>...</td>\n",
       "      <td>NaN</td>\n",
       "      <td>NaN</td>\n",
       "      <td>NaN</td>\n",
       "      <td>NaN</td>\n",
       "      <td>NaN</td>\n",
       "      <td>NaN</td>\n",
       "      <td>NaN</td>\n",
       "      <td>NaN</td>\n",
       "      <td>NaN</td>\n",
       "      <td>NaN</td>\n",
       "    </tr>\n",
       "    <tr>\n",
       "      <th>3</th>\n",
       "      <td>IN</td>\n",
       "      <td>10/06/2017</td>\n",
       "      <td>NaN</td>\n",
       "      <td>uir</td>\n",
       "      <td>6.785</td>\n",
       "      <td>NaN</td>\n",
       "      <td>47403</td>\n",
       "      <td>Residential</td>\n",
       "      <td>Whole Sun Designs</td>\n",
       "      <td>2.590000</td>\n",
       "      <td>...</td>\n",
       "      <td>NaN</td>\n",
       "      <td>NaN</td>\n",
       "      <td>NaN</td>\n",
       "      <td>NaN</td>\n",
       "      <td>NaN</td>\n",
       "      <td>NaN</td>\n",
       "      <td>NaN</td>\n",
       "      <td>NaN</td>\n",
       "      <td>NaN</td>\n",
       "      <td>NaN</td>\n",
       "    </tr>\n",
       "    <tr>\n",
       "      <th>4</th>\n",
       "      <td>IN</td>\n",
       "      <td>10/06/2017</td>\n",
       "      <td>NaN</td>\n",
       "      <td>uir</td>\n",
       "      <td>4.720</td>\n",
       "      <td>NaN</td>\n",
       "      <td>47408</td>\n",
       "      <td>Residential</td>\n",
       "      <td>Whole Sun Designs</td>\n",
       "      <td>2.570000</td>\n",
       "      <td>...</td>\n",
       "      <td>NaN</td>\n",
       "      <td>NaN</td>\n",
       "      <td>NaN</td>\n",
       "      <td>NaN</td>\n",
       "      <td>NaN</td>\n",
       "      <td>NaN</td>\n",
       "      <td>NaN</td>\n",
       "      <td>NaN</td>\n",
       "      <td>NaN</td>\n",
       "      <td>NaN</td>\n",
       "    </tr>\n",
       "  </tbody>\n",
       "</table>\n",
       "<p>5 rows × 81 columns</p>\n",
       "</div>"
      ],
      "text/plain": [
       "  state date_installed incentive_prog_names type  size_kw appraised zipcode  \\\n",
       "0    TX     12/12/2013        Austin Energy  uir   10.560       NaN   78702   \n",
       "1    TX     07/11/2014        Austin Energy  uir   12.720       NaN   78702   \n",
       "2    TX     01/17/2014        Austin Energy  uir    5.400       NaN   78702   \n",
       "3    IN     10/06/2017                  NaN  uir    6.785       NaN   47403   \n",
       "4    IN     10/06/2017                  NaN  uir    4.720       NaN   47408   \n",
       "\n",
       "  install_type          installer  cost_per_watt    ...     new_constr  \\\n",
       "0  residential                NaN       2.897777    ...            NaN   \n",
       "1  residential                NaN       3.144654    ...            NaN   \n",
       "2  residential                NaN       4.197330    ...            NaN   \n",
       "3  Residential  Whole Sun Designs       2.590000    ...            NaN   \n",
       "4  Residential  Whole Sun Designs       2.570000    ...            NaN   \n",
       "\n",
       "   effic_1 cust_county tracking inv_model_clean mod_cost_real inv_cost_real  \\\n",
       "0      NaN         NaN      NaN             NaN           NaN           NaN   \n",
       "1      NaN         NaN      NaN             NaN           NaN           NaN   \n",
       "2      NaN         NaN      NaN             NaN           NaN           NaN   \n",
       "3      NaN         NaN      NaN             NaN           NaN           NaN   \n",
       "4      NaN         NaN      NaN             NaN           NaN           NaN   \n",
       "\n",
       "  bos_powerclerk_real  permitting_real  3rdparty  \n",
       "0                 NaN              NaN       NaN  \n",
       "1                 NaN              NaN       NaN  \n",
       "2                 NaN              NaN       NaN  \n",
       "3                 NaN              NaN       NaN  \n",
       "4                 NaN              NaN       NaN  \n",
       "\n",
       "[5 rows x 81 columns]"
      ]
     },
     "execution_count": 30,
     "metadata": {},
     "output_type": "execute_result"
    }
   ],
   "source": [
    "open_pv.head()"
   ]
  },
  {
   "cell_type": "code",
   "execution_count": 31,
   "metadata": {},
   "outputs": [
    {
     "data": {
      "text/plain": [
       "(1020945, 81)"
      ]
     },
     "execution_count": 31,
     "metadata": {},
     "output_type": "execute_result"
    }
   ],
   "source": [
    "open_pv.shape"
   ]
  },
  {
   "cell_type": "code",
   "execution_count": 32,
   "metadata": {},
   "outputs": [
    {
     "data": {
      "text/plain": [
       "Index(['state', 'date_installed', 'incentive_prog_names', 'type', 'size_kw',\n",
       "       'appraised', 'zipcode', 'install_type', 'installer', 'cost_per_watt',\n",
       "       'cost', 'lbnl_tts_version_year', 'lbnl_tts', 'city', 'utility_clean',\n",
       "       'tech_1', 'model1_clean', 'county', 'annual_PV_prod',\n",
       "       'annual_insolation', 'rebate', 'sales_tax_cost', 'tilt1',\n",
       "       'tracking_type', 'azimuth1', 'manuf2_clean', 'manuf3_clean',\n",
       "       'manuf1_clean', 'inv_man_clean', 'reported_annual_energy_prod',\n",
       "       'incentivetype', 'year_app_implied', 'year', 'npv_fit_real',\n",
       "       'application_implied', 'npv_pbi_real', 'other_incentive',\n",
       "       'appraised_cluster', 'inflation', 'other_incentive_real',\n",
       "       'zip_available', 'cust_city', 'pbi', 'pbi_real', 'pbi_length',\n",
       "       'application', 'fit_length', 'fit_rate', 'fit_payment',\n",
       "       '_3rdparty_implied', 'utility', 'install_price_real_w', 'install_price',\n",
       "       'installer_clean', 'manuf1_', 'inverter_reported', 'rebate_real',\n",
       "       'model1', '_3rdparty', 'inv_model_reported', 'microinv_solarhub',\n",
       "       'bipv_3', 'bipv_2', 'bipv_1', 'sales_tax_rate', 'sales_tax_cost_real',\n",
       "       'bipv_all', 'thinfilm_all', 'china', 'sys_sizeac', 'pbi_rate',\n",
       "       'new_constr', 'effic_1', 'cust_county', 'tracking', 'inv_model_clean',\n",
       "       'mod_cost_real', 'inv_cost_real', 'bos_powerclerk_real',\n",
       "       'permitting_real', '3rdparty'],\n",
       "      dtype='object')"
      ]
     },
     "execution_count": 32,
     "metadata": {},
     "output_type": "execute_result"
    }
   ],
   "source": [
    "open_pv.columns"
   ]
  },
  {
   "cell_type": "code",
   "execution_count": 33,
   "metadata": {
    "scrolled": true
   },
   "outputs": [
    {
     "data": {
      "text/plain": [
       "01/01/1998       2\n",
       "01/01/1999       6\n",
       "01/01/2000      22\n",
       "01/01/2001      10\n",
       "01/01/2002      10\n",
       "01/01/2003       5\n",
       "01/01/2004      24\n",
       "01/01/2005      39\n",
       "01/01/2006      35\n",
       "01/01/2007      65\n",
       "01/01/2008     150\n",
       "01/01/2009     290\n",
       "01/01/2010      25\n",
       "01/01/2011      35\n",
       "01/01/2012      69\n",
       "01/01/2013      15\n",
       "01/01/2014      13\n",
       "01/01/2015      91\n",
       "01/01/2016       3\n",
       "01/01/2017       1\n",
       "01/02/1999       1\n",
       "01/02/2002      18\n",
       "01/02/2003       8\n",
       "01/02/2004       1\n",
       "01/02/2005       1\n",
       "01/02/2006      10\n",
       "01/02/2007      10\n",
       "01/02/2008      50\n",
       "01/02/2009     148\n",
       "01/02/2010       4\n",
       "              ... \n",
       "12/30/2005      59\n",
       "12/30/2006      14\n",
       "12/30/2007      16\n",
       "12/30/2008     145\n",
       "12/30/2009     373\n",
       "12/30/2010     504\n",
       "12/30/2011     492\n",
       "12/30/2012      19\n",
       "12/30/2013     654\n",
       "12/30/2014    1127\n",
       "12/30/2015    1065\n",
       "12/30/2016       2\n",
       "12/31/1969     119\n",
       "12/31/1999       2\n",
       "12/31/2001      35\n",
       "12/31/2002      17\n",
       "12/31/2003      15\n",
       "12/31/2004      47\n",
       "12/31/2005      12\n",
       "12/31/2006      23\n",
       "12/31/2007      88\n",
       "12/31/2008     146\n",
       "12/31/2009     286\n",
       "12/31/2010     119\n",
       "12/31/2011      63\n",
       "12/31/2012     824\n",
       "12/31/2013     826\n",
       "12/31/2014    1302\n",
       "12/31/2015    1259\n",
       "NaN              5\n",
       "Name: date_installed, Length: 5848, dtype: int64"
      ]
     },
     "execution_count": 33,
     "metadata": {},
     "output_type": "execute_result"
    }
   ],
   "source": [
    "open_pv['date_installed'].value_counts(dropna = False).sort_index()"
   ]
  },
  {
   "cell_type": "code",
   "execution_count": 34,
   "metadata": {},
   "outputs": [],
   "source": [
    "# Convert install date to a datetime\n",
    "open_pv['date_installed_dt'] = pd.to_datetime(open_pv['date_installed'])"
   ]
  },
  {
   "cell_type": "code",
   "execution_count": 35,
   "metadata": {
    "scrolled": true
   },
   "outputs": [
    {
     "data": {
      "text/plain": [
       "1909-07-07      4\n",
       "1969-12-31    119\n",
       "1983-06-01      1\n",
       "1983-11-14      1\n",
       "1984-12-01      1\n",
       "1986-12-01      1\n",
       "1988-08-23      1\n",
       "1992-12-01      1\n",
       "1994-01-25      1\n",
       "1994-02-01      1\n",
       "1994-03-08      2\n",
       "1994-03-16      2\n",
       "1994-03-31      1\n",
       "1994-06-01      1\n",
       "1994-10-07      1\n",
       "1994-12-01      1\n",
       "1994-12-30      1\n",
       "1995-03-03      1\n",
       "1995-06-01      1\n",
       "1995-06-30      1\n",
       "1995-07-05      2\n",
       "1995-07-26      1\n",
       "1995-07-27      1\n",
       "1995-07-28      1\n",
       "1995-08-01      1\n",
       "1995-08-02      1\n",
       "1995-08-10      1\n",
       "1995-09-01      1\n",
       "1995-10-27      1\n",
       "1995-12-30      1\n",
       "             ... \n",
       "2019-01-10      2\n",
       "2019-01-11      1\n",
       "2019-01-15      1\n",
       "2019-01-16      1\n",
       "2019-01-18      1\n",
       "2019-01-21      1\n",
       "2019-01-23      1\n",
       "2019-01-25      1\n",
       "2019-01-29      1\n",
       "2019-02-01      1\n",
       "2019-02-05      1\n",
       "2019-02-06      2\n",
       "2019-02-08      1\n",
       "2019-02-11      3\n",
       "2019-02-12      1\n",
       "2019-02-13      1\n",
       "2019-02-20      1\n",
       "2019-02-22      1\n",
       "2019-02-25      1\n",
       "2019-02-26      1\n",
       "2019-02-27      2\n",
       "2019-03-01      1\n",
       "2019-03-05      1\n",
       "2019-03-13      1\n",
       "2019-03-15      1\n",
       "2019-03-22      1\n",
       "2019-03-25      1\n",
       "2019-03-26      1\n",
       "2019-03-29      1\n",
       "NaT             5\n",
       "Name: date_installed_dt, Length: 5848, dtype: int64"
      ]
     },
     "execution_count": 35,
     "metadata": {},
     "output_type": "execute_result"
    }
   ],
   "source": [
    "open_pv['date_installed_dt'].value_counts(dropna = False).sort_index()"
   ]
  },
  {
   "cell_type": "code",
   "execution_count": 36,
   "metadata": {},
   "outputs": [
    {
     "name": "stderr",
     "output_type": "stream",
     "text": [
      "/anaconda3/lib/python3.7/site-packages/numpy/lib/histograms.py:754: RuntimeWarning: invalid value encountered in greater_equal\n",
      "  keep = (tmp_a >= first_edge)\n",
      "/anaconda3/lib/python3.7/site-packages/numpy/lib/histograms.py:755: RuntimeWarning: invalid value encountered in less_equal\n",
      "  keep &= (tmp_a <= last_edge)\n"
     ]
    },
    {
     "data": {
      "image/png": "[encoded data removed]",
      "text/plain": [
       "<Figure size 432x288 with 1 Axes>"
      ]
     },
     "metadata": {
      "needs_background": "light"
     },
     "output_type": "display_data"
    }
   ],
   "source": [
    "# Data (supposedly) goes back to 1909, but most installs from around 1998 to 2016\n",
    "plt.hist(open_pv['date_installed_dt'].dt.year, bins=100)\n",
    "plt.show()"
   ]
  },
  {
   "cell_type": "code",
   "execution_count": 37,
   "metadata": {},
   "outputs": [],
   "source": [
    "# Try limiting to more recent installs\n",
    "open_pv1 = open_pv[open_pv['date_installed_dt'] > '2016'].copy()"
   ]
  },
  {
   "cell_type": "code",
   "execution_count": 38,
   "metadata": {},
   "outputs": [
    {
     "data": {
      "text/plain": [
       "(975, 82)"
      ]
     },
     "execution_count": 38,
     "metadata": {},
     "output_type": "execute_result"
    }
   ],
   "source": [
    "open_pv1.shape"
   ]
  },
  {
   "cell_type": "code",
   "execution_count": 39,
   "metadata": {},
   "outputs": [],
   "source": [
    "# open_pv2 = open_pv[open_pv['zipcode'].notnull()].copy()\n",
    "# Above not necessary after limiting to recent\n",
    "open_pv2 = open_pv1.copy()"
   ]
  },
  {
   "cell_type": "code",
   "execution_count": 40,
   "metadata": {
    "scrolled": true
   },
   "outputs": [
    {
     "data": {
      "text/plain": [
       "state                                  object\n",
       "date_installed                         object\n",
       "incentive_prog_names                   object\n",
       "type                                   object\n",
       "size_kw                               float64\n",
       "appraised                              object\n",
       "zipcode                                object\n",
       "install_type                           object\n",
       "installer                              object\n",
       "cost_per_watt                         float64\n",
       "cost                                  float64\n",
       "lbnl_tts_version_year                 float64\n",
       "lbnl_tts                               object\n",
       "city                                   object\n",
       "utility_clean                          object\n",
       "tech_1                                 object\n",
       "model1_clean                           object\n",
       "county                                 object\n",
       "annual_PV_prod                        float64\n",
       "annual_insolation                     float64\n",
       "rebate                                 object\n",
       "sales_tax_cost                        float64\n",
       "tilt1                                 float64\n",
       "tracking_type                          object\n",
       "azimuth1                              float64\n",
       "manuf2_clean                           object\n",
       "manuf3_clean                           object\n",
       "manuf1_clean                           object\n",
       "inv_man_clean                          object\n",
       "reported_annual_energy_prod           float64\n",
       "                                    ...      \n",
       "install_price                         float64\n",
       "installer_clean                       float64\n",
       "manuf1_                               float64\n",
       "inverter_reported                     float64\n",
       "rebate_real                           float64\n",
       "model1                                float64\n",
       "_3rdparty                             float64\n",
       "inv_model_reported                    float64\n",
       "microinv_solarhub                     float64\n",
       "bipv_3                                float64\n",
       "bipv_2                                float64\n",
       "bipv_1                                float64\n",
       "sales_tax_rate                        float64\n",
       "sales_tax_cost_real                   float64\n",
       "bipv_all                              float64\n",
       "thinfilm_all                          float64\n",
       "china                                 float64\n",
       "sys_sizeac                            float64\n",
       "pbi_rate                              float64\n",
       "new_constr                            float64\n",
       "effic_1                               float64\n",
       "cust_county                           float64\n",
       "tracking                              float64\n",
       "inv_model_clean                       float64\n",
       "mod_cost_real                         float64\n",
       "inv_cost_real                         float64\n",
       "bos_powerclerk_real                   float64\n",
       "permitting_real                       float64\n",
       "3rdparty                              float64\n",
       "date_installed_dt              datetime64[ns]\n",
       "Length: 82, dtype: object"
      ]
     },
     "execution_count": 40,
     "metadata": {},
     "output_type": "execute_result"
    }
   ],
   "source": [
    "open_pv2.dtypes"
   ]
  },
  {
   "cell_type": "code",
   "execution_count": 41,
   "metadata": {},
   "outputs": [],
   "source": [
    "# Join solar install data to zip code lat/lon data\n",
    "open_pv_w_loc = pd.merge(open_pv2, zip_code_info, how = 'left', on='zipcode')"
   ]
  },
  {
   "cell_type": "code",
   "execution_count": 42,
   "metadata": {},
   "outputs": [
    {
     "data": {
      "text/html": [
       "<div>\n",
       "<style scoped>\n",
       "    .dataframe tbody tr th:only-of-type {\n",
       "        vertical-align: middle;\n",
       "    }\n",
       "\n",
       "    .dataframe tbody tr th {\n",
       "        vertical-align: top;\n",
       "    }\n",
       "\n",
       "    .dataframe thead th {\n",
       "        text-align: right;\n",
       "    }\n",
       "</style>\n",
       "<table border=\"1\" class=\"dataframe\">\n",
       "  <thead>\n",
       "    <tr style=\"text-align: right;\">\n",
       "      <th></th>\n",
       "      <th>state</th>\n",
       "      <th>date_installed</th>\n",
       "      <th>incentive_prog_names</th>\n",
       "      <th>type</th>\n",
       "      <th>size_kw</th>\n",
       "      <th>appraised</th>\n",
       "      <th>zipcode</th>\n",
       "      <th>install_type</th>\n",
       "      <th>installer</th>\n",
       "      <th>cost_per_watt</th>\n",
       "      <th>...</th>\n",
       "      <th>City</th>\n",
       "      <th>State</th>\n",
       "      <th>State Code</th>\n",
       "      <th>Unk1</th>\n",
       "      <th>Unk2</th>\n",
       "      <th>Unk3</th>\n",
       "      <th>Unk4</th>\n",
       "      <th>Lat</th>\n",
       "      <th>Lng</th>\n",
       "      <th>Unk5</th>\n",
       "    </tr>\n",
       "  </thead>\n",
       "  <tbody>\n",
       "    <tr>\n",
       "      <th>0</th>\n",
       "      <td>IN</td>\n",
       "      <td>10/06/2017</td>\n",
       "      <td>NaN</td>\n",
       "      <td>uir</td>\n",
       "      <td>6.785</td>\n",
       "      <td>NaN</td>\n",
       "      <td>47403</td>\n",
       "      <td>Residential</td>\n",
       "      <td>Whole Sun Designs</td>\n",
       "      <td>2.59</td>\n",
       "      <td>...</td>\n",
       "      <td>Bloomington</td>\n",
       "      <td>Indiana</td>\n",
       "      <td>IN</td>\n",
       "      <td>Monroe</td>\n",
       "      <td>105.0</td>\n",
       "      <td>NaN</td>\n",
       "      <td>NaN</td>\n",
       "      <td>39.1263</td>\n",
       "      <td>-86.5769</td>\n",
       "      <td>4.0</td>\n",
       "    </tr>\n",
       "    <tr>\n",
       "      <th>1</th>\n",
       "      <td>IN</td>\n",
       "      <td>10/06/2017</td>\n",
       "      <td>NaN</td>\n",
       "      <td>uir</td>\n",
       "      <td>4.720</td>\n",
       "      <td>NaN</td>\n",
       "      <td>47408</td>\n",
       "      <td>Residential</td>\n",
       "      <td>Whole Sun Designs</td>\n",
       "      <td>2.57</td>\n",
       "      <td>...</td>\n",
       "      <td>Bloomington</td>\n",
       "      <td>Indiana</td>\n",
       "      <td>IN</td>\n",
       "      <td>Monroe</td>\n",
       "      <td>105.0</td>\n",
       "      <td>NaN</td>\n",
       "      <td>NaN</td>\n",
       "      <td>39.2303</td>\n",
       "      <td>-86.4692</td>\n",
       "      <td>4.0</td>\n",
       "    </tr>\n",
       "    <tr>\n",
       "      <th>2</th>\n",
       "      <td>IN</td>\n",
       "      <td>10/13/2017</td>\n",
       "      <td>NaN</td>\n",
       "      <td>uir</td>\n",
       "      <td>12.390</td>\n",
       "      <td>NaN</td>\n",
       "      <td>47429</td>\n",
       "      <td>Residential</td>\n",
       "      <td>Whole Sun Designs</td>\n",
       "      <td>2.60</td>\n",
       "      <td>...</td>\n",
       "      <td>Ellettsville</td>\n",
       "      <td>Indiana</td>\n",
       "      <td>IN</td>\n",
       "      <td>Monroe</td>\n",
       "      <td>105.0</td>\n",
       "      <td>NaN</td>\n",
       "      <td>NaN</td>\n",
       "      <td>39.2545</td>\n",
       "      <td>-86.6196</td>\n",
       "      <td>4.0</td>\n",
       "    </tr>\n",
       "    <tr>\n",
       "      <th>3</th>\n",
       "      <td>IN</td>\n",
       "      <td>10/17/2017</td>\n",
       "      <td>NaN</td>\n",
       "      <td>uir</td>\n",
       "      <td>6.700</td>\n",
       "      <td>NaN</td>\n",
       "      <td>47401</td>\n",
       "      <td>Residential</td>\n",
       "      <td>Whole Sun Designs</td>\n",
       "      <td>2.28</td>\n",
       "      <td>...</td>\n",
       "      <td>Bloomington</td>\n",
       "      <td>Indiana</td>\n",
       "      <td>IN</td>\n",
       "      <td>Monroe</td>\n",
       "      <td>105.0</td>\n",
       "      <td>NaN</td>\n",
       "      <td>NaN</td>\n",
       "      <td>39.1401</td>\n",
       "      <td>-86.5083</td>\n",
       "      <td>4.0</td>\n",
       "    </tr>\n",
       "    <tr>\n",
       "      <th>4</th>\n",
       "      <td>IN</td>\n",
       "      <td>10/23/2017</td>\n",
       "      <td>NaN</td>\n",
       "      <td>uir</td>\n",
       "      <td>4.130</td>\n",
       "      <td>NaN</td>\n",
       "      <td>47404</td>\n",
       "      <td>Residential</td>\n",
       "      <td>Whole Sun Designs</td>\n",
       "      <td>2.62</td>\n",
       "      <td>...</td>\n",
       "      <td>Bloomington</td>\n",
       "      <td>Indiana</td>\n",
       "      <td>IN</td>\n",
       "      <td>Monroe</td>\n",
       "      <td>105.0</td>\n",
       "      <td>NaN</td>\n",
       "      <td>NaN</td>\n",
       "      <td>39.1950</td>\n",
       "      <td>-86.5757</td>\n",
       "      <td>4.0</td>\n",
       "    </tr>\n",
       "  </tbody>\n",
       "</table>\n",
       "<p>5 rows × 93 columns</p>\n",
       "</div>"
      ],
      "text/plain": [
       "  state date_installed incentive_prog_names type  size_kw appraised zipcode  \\\n",
       "0    IN     10/06/2017                  NaN  uir    6.785       NaN   47403   \n",
       "1    IN     10/06/2017                  NaN  uir    4.720       NaN   47408   \n",
       "2    IN     10/13/2017                  NaN  uir   12.390       NaN   47429   \n",
       "3    IN     10/17/2017                  NaN  uir    6.700       NaN   47401   \n",
       "4    IN     10/23/2017                  NaN  uir    4.130       NaN   47404   \n",
       "\n",
       "  install_type          installer  cost_per_watt  ...           City    State  \\\n",
       "0  Residential  Whole Sun Designs           2.59  ...    Bloomington  Indiana   \n",
       "1  Residential  Whole Sun Designs           2.57  ...    Bloomington  Indiana   \n",
       "2  Residential  Whole Sun Designs           2.60  ...   Ellettsville  Indiana   \n",
       "3  Residential  Whole Sun Designs           2.28  ...    Bloomington  Indiana   \n",
       "4  Residential  Whole Sun Designs           2.62  ...    Bloomington  Indiana   \n",
       "\n",
       "  State Code    Unk1   Unk2 Unk3 Unk4      Lat      Lng  Unk5  \n",
       "0         IN  Monroe  105.0  NaN  NaN  39.1263 -86.5769   4.0  \n",
       "1         IN  Monroe  105.0  NaN  NaN  39.2303 -86.4692   4.0  \n",
       "2         IN  Monroe  105.0  NaN  NaN  39.2545 -86.6196   4.0  \n",
       "3         IN  Monroe  105.0  NaN  NaN  39.1401 -86.5083   4.0  \n",
       "4         IN  Monroe  105.0  NaN  NaN  39.1950 -86.5757   4.0  \n",
       "\n",
       "[5 rows x 93 columns]"
      ]
     },
     "execution_count": 42,
     "metadata": {},
     "output_type": "execute_result"
    }
   ],
   "source": [
    "open_pv_w_loc.head()"
   ]
  },
  {
   "cell_type": "code",
   "execution_count": 43,
   "metadata": {},
   "outputs": [
    {
     "data": {
      "text/plain": [
       "(0, 93)"
      ]
     },
     "execution_count": 43,
     "metadata": {},
     "output_type": "execute_result"
    }
   ],
   "source": [
    "# Some null lats and longs, but not many\n",
    "# (None after limiting to 2016+)\n",
    "open_pv_w_loc[open_pv_w_loc['Lat'].isnull()].shape"
   ]
  },
  {
   "cell_type": "code",
   "execution_count": 44,
   "metadata": {},
   "outputs": [],
   "source": [
    "# Drop out null locations\n",
    "open_pv_w_loc2 = open_pv_w_loc[open_pv_w_loc['Lat'].notnull() & open_pv_w_loc['Lng'].notnull()].copy()"
   ]
  },
  {
   "cell_type": "code",
   "execution_count": 45,
   "metadata": {},
   "outputs": [],
   "source": [
    "# Normalize size_kw to lie between 0 and 10\n",
    "min_size = open_pv_w_loc2['size_kw'].min()\n",
    "max_size = open_pv_w_loc2['size_kw'].max()\n",
    "size_range = max_size - min_size\n",
    "open_pv_w_loc2['size_normed'] = (10 * (open_pv_w_loc2['size_kw'] - min_size)/size_range + 1).astype(int)"
   ]
  },
  {
   "cell_type": "code",
   "execution_count": 46,
   "metadata": {},
   "outputs": [],
   "source": [
    "fig = gmaps.figure(center = (38.8283, -98.5795), zoom_level = 4)\n",
    "install_locs = open_pv_w_loc2[['Lat','Lng']]\n",
    "size = [int(x) for i, x in open_pv_w_loc2['size_normed'].iteritems()]"
   ]
  },
  {
   "cell_type": "code",
   "execution_count": 47,
   "metadata": {},
   "outputs": [],
   "source": [
    "install_layer = gmaps.symbol_layer(install_locs, fill_opacity=.5, stroke_opacity = .5)"
   ]
  },
  {
   "cell_type": "code",
   "execution_count": 48,
   "metadata": {},
   "outputs": [],
   "source": [
    "fig.add_layer(install_layer)"
   ]
  },
  {
   "cell_type": "code",
   "execution_count": 49,
   "metadata": {},
   "outputs": [
    {
     "data": {
      "application/vnd.jupyter.widget-view+json": {
       "model_id": "aef7eb01947f41898ce0c9245770507f",
       "version_major": 2,
       "version_minor": 0
      },
      "text/plain": [
       "Figure(layout=FigureLayout(height='420px'))"
      ]
     },
     "metadata": {},
     "output_type": "display_data"
    }
   ],
   "source": [
    "fig"
   ]
  },
  {
   "cell_type": "markdown",
   "metadata": {},
   "source": [
    "### Sunniness"
   ]
  },
  {
   "cell_type": "code",
   "execution_count": 50,
   "metadata": {},
   "outputs": [],
   "source": [
    "# Import sunniness data by county from https://wonder.cdc.gov/nasa-insolar.html\n",
    "sunny = pd.read_csv('/Users/seantibbitts/Downloads/North America Land Data Assimilation System (NLDAS) Daily Sunlight (KJm²) (1979-2011) (1).txt',\n",
    "                    sep = '\\t', dtype = {'County Code':str}, encoding = 'ISO-8859-1')"
   ]
  },
  {
   "cell_type": "code",
   "execution_count": 51,
   "metadata": {
    "scrolled": true
   },
   "outputs": [
    {
     "data": {
      "text/html": [
       "<div>\n",
       "<style scoped>\n",
       "    .dataframe tbody tr th:only-of-type {\n",
       "        vertical-align: middle;\n",
       "    }\n",
       "\n",
       "    .dataframe tbody tr th {\n",
       "        vertical-align: top;\n",
       "    }\n",
       "\n",
       "    .dataframe thead th {\n",
       "        text-align: right;\n",
       "    }\n",
       "</style>\n",
       "<table border=\"1\" class=\"dataframe\">\n",
       "  <thead>\n",
       "    <tr style=\"text-align: right;\">\n",
       "      <th></th>\n",
       "      <th>Notes</th>\n",
       "      <th>County</th>\n",
       "      <th>County Code</th>\n",
       "      <th>Avg Daily Sunlight (KJ/m²)</th>\n",
       "    </tr>\n",
       "  </thead>\n",
       "  <tbody>\n",
       "    <tr>\n",
       "      <th>0</th>\n",
       "      <td>NaN</td>\n",
       "      <td>Autauga County, AL</td>\n",
       "      <td>01001</td>\n",
       "      <td>17103.72</td>\n",
       "    </tr>\n",
       "    <tr>\n",
       "      <th>1</th>\n",
       "      <td>NaN</td>\n",
       "      <td>Baldwin County, AL</td>\n",
       "      <td>01003</td>\n",
       "      <td>17660.59</td>\n",
       "    </tr>\n",
       "    <tr>\n",
       "      <th>2</th>\n",
       "      <td>NaN</td>\n",
       "      <td>Barbour County, AL</td>\n",
       "      <td>01005</td>\n",
       "      <td>17315.13</td>\n",
       "    </tr>\n",
       "    <tr>\n",
       "      <th>3</th>\n",
       "      <td>NaN</td>\n",
       "      <td>Bibb County, AL</td>\n",
       "      <td>01007</td>\n",
       "      <td>16904.87</td>\n",
       "    </tr>\n",
       "    <tr>\n",
       "      <th>4</th>\n",
       "      <td>NaN</td>\n",
       "      <td>Blount County, AL</td>\n",
       "      <td>01009</td>\n",
       "      <td>16393.63</td>\n",
       "    </tr>\n",
       "  </tbody>\n",
       "</table>\n",
       "</div>"
      ],
      "text/plain": [
       "  Notes              County County Code  Avg Daily Sunlight (KJ/m²)\n",
       "0   NaN  Autauga County, AL       01001                    17103.72\n",
       "1   NaN  Baldwin County, AL       01003                    17660.59\n",
       "2   NaN  Barbour County, AL       01005                    17315.13\n",
       "3   NaN     Bibb County, AL       01007                    16904.87\n",
       "4   NaN   Blount County, AL       01009                    16393.63"
      ]
     },
     "execution_count": 51,
     "metadata": {},
     "output_type": "execute_result"
    }
   ],
   "source": [
    "# Notes column is empty\n",
    "sunny.head()"
   ]
  },
  {
   "cell_type": "code",
   "execution_count": 52,
   "metadata": {},
   "outputs": [
    {
     "data": {
      "text/html": [
       "<div>\n",
       "<style scoped>\n",
       "    .dataframe tbody tr th:only-of-type {\n",
       "        vertical-align: middle;\n",
       "    }\n",
       "\n",
       "    .dataframe tbody tr th {\n",
       "        vertical-align: top;\n",
       "    }\n",
       "\n",
       "    .dataframe thead th {\n",
       "        text-align: right;\n",
       "    }\n",
       "</style>\n",
       "<table border=\"1\" class=\"dataframe\">\n",
       "  <thead>\n",
       "    <tr style=\"text-align: right;\">\n",
       "      <th></th>\n",
       "      <th>Notes</th>\n",
       "      <th>County</th>\n",
       "      <th>County Code</th>\n",
       "      <th>Avg Daily Sunlight (KJ/m²)</th>\n",
       "    </tr>\n",
       "  </thead>\n",
       "  <tbody>\n",
       "    <tr>\n",
       "      <th>3110</th>\n",
       "      <td>NaN</td>\n",
       "      <td>Weston County, WY</td>\n",
       "      <td>56045</td>\n",
       "      <td>15923.65</td>\n",
       "    </tr>\n",
       "    <tr>\n",
       "      <th>3111</th>\n",
       "      <td>Total</td>\n",
       "      <td>NaN</td>\n",
       "      <td>NaN</td>\n",
       "      <td>16432.10</td>\n",
       "    </tr>\n",
       "    <tr>\n",
       "      <th>3112</th>\n",
       "      <td>---</td>\n",
       "      <td>NaN</td>\n",
       "      <td>NaN</td>\n",
       "      <td>NaN</td>\n",
       "    </tr>\n",
       "    <tr>\n",
       "      <th>3113</th>\n",
       "      <td>Dataset: North America Land Data Assimilation ...</td>\n",
       "      <td>NaN</td>\n",
       "      <td>NaN</td>\n",
       "      <td>NaN</td>\n",
       "    </tr>\n",
       "    <tr>\n",
       "      <th>3114</th>\n",
       "      <td>Query Parameters:</td>\n",
       "      <td>NaN</td>\n",
       "      <td>NaN</td>\n",
       "      <td>NaN</td>\n",
       "    </tr>\n",
       "    <tr>\n",
       "      <th>3115</th>\n",
       "      <td>Group By: County</td>\n",
       "      <td>NaN</td>\n",
       "      <td>NaN</td>\n",
       "      <td>NaN</td>\n",
       "    </tr>\n",
       "    <tr>\n",
       "      <th>3116</th>\n",
       "      <td>Show Totals: True</td>\n",
       "      <td>NaN</td>\n",
       "      <td>NaN</td>\n",
       "      <td>NaN</td>\n",
       "    </tr>\n",
       "    <tr>\n",
       "      <th>3117</th>\n",
       "      <td>Show Zero Values: True</td>\n",
       "      <td>NaN</td>\n",
       "      <td>NaN</td>\n",
       "      <td>NaN</td>\n",
       "    </tr>\n",
       "    <tr>\n",
       "      <th>3118</th>\n",
       "      <td>---</td>\n",
       "      <td>NaN</td>\n",
       "      <td>NaN</td>\n",
       "      <td>NaN</td>\n",
       "    </tr>\n",
       "    <tr>\n",
       "      <th>3119</th>\n",
       "      <td>Help: See http://wonder.cdc.gov/wonder/help/In...</td>\n",
       "      <td>NaN</td>\n",
       "      <td>NaN</td>\n",
       "      <td>NaN</td>\n",
       "    </tr>\n",
       "    <tr>\n",
       "      <th>3120</th>\n",
       "      <td>---</td>\n",
       "      <td>NaN</td>\n",
       "      <td>NaN</td>\n",
       "      <td>NaN</td>\n",
       "    </tr>\n",
       "    <tr>\n",
       "      <th>3121</th>\n",
       "      <td>Query Date: Apr 5, 2019 12:25:56 AM</td>\n",
       "      <td>NaN</td>\n",
       "      <td>NaN</td>\n",
       "      <td>NaN</td>\n",
       "    </tr>\n",
       "    <tr>\n",
       "      <th>3122</th>\n",
       "      <td>---</td>\n",
       "      <td>NaN</td>\n",
       "      <td>NaN</td>\n",
       "      <td>NaN</td>\n",
       "    </tr>\n",
       "    <tr>\n",
       "      <th>3123</th>\n",
       "      <td>Suggested Citation: North America Land Data As...</td>\n",
       "      <td>NaN</td>\n",
       "      <td>NaN</td>\n",
       "      <td>NaN</td>\n",
       "    </tr>\n",
       "    <tr>\n",
       "      <th>3124</th>\n",
       "      <td>WONDER Online Database, released 2013. Accesse...</td>\n",
       "      <td>NaN</td>\n",
       "      <td>NaN</td>\n",
       "      <td>NaN</td>\n",
       "    </tr>\n",
       "  </tbody>\n",
       "</table>\n",
       "</div>"
      ],
      "text/plain": [
       "                                                  Notes             County  \\\n",
       "3110                                                NaN  Weston County, WY   \n",
       "3111                                              Total                NaN   \n",
       "3112                                                ---                NaN   \n",
       "3113  Dataset: North America Land Data Assimilation ...                NaN   \n",
       "3114                                  Query Parameters:                NaN   \n",
       "3115                                   Group By: County                NaN   \n",
       "3116                                  Show Totals: True                NaN   \n",
       "3117                             Show Zero Values: True                NaN   \n",
       "3118                                                ---                NaN   \n",
       "3119  Help: See http://wonder.cdc.gov/wonder/help/In...                NaN   \n",
       "3120                                                ---                NaN   \n",
       "3121                Query Date: Apr 5, 2019 12:25:56 AM                NaN   \n",
       "3122                                                ---                NaN   \n",
       "3123  Suggested Citation: North America Land Data As...                NaN   \n",
       "3124  WONDER Online Database, released 2013. Accesse...                NaN   \n",
       "\n",
       "     County Code  Avg Daily Sunlight (KJ/m²)  \n",
       "3110       56045                    15923.65  \n",
       "3111         NaN                    16432.10  \n",
       "3112         NaN                         NaN  \n",
       "3113         NaN                         NaN  \n",
       "3114         NaN                         NaN  \n",
       "3115         NaN                         NaN  \n",
       "3116         NaN                         NaN  \n",
       "3117         NaN                         NaN  \n",
       "3118         NaN                         NaN  \n",
       "3119         NaN                         NaN  \n",
       "3120         NaN                         NaN  \n",
       "3121         NaN                         NaN  \n",
       "3122         NaN                         NaN  \n",
       "3123         NaN                         NaN  \n",
       "3124         NaN                         NaN  "
      ]
     },
     "execution_count": 52,
     "metadata": {},
     "output_type": "execute_result"
    }
   ],
   "source": [
    "# End of data has footer and total row\n",
    "sunny.tail(15)"
   ]
  },
  {
   "cell_type": "code",
   "execution_count": 53,
   "metadata": {},
   "outputs": [],
   "source": [
    "# Cut out non-data footer and total row and drop Notes column\n",
    "sunny_data = sunny.iloc[:3111].copy().drop('Notes', axis = 1)"
   ]
  },
  {
   "cell_type": "code",
   "execution_count": 54,
   "metadata": {
    "scrolled": true
   },
   "outputs": [
    {
     "data": {
      "text/html": [
       "<div>\n",
       "<style scoped>\n",
       "    .dataframe tbody tr th:only-of-type {\n",
       "        vertical-align: middle;\n",
       "    }\n",
       "\n",
       "    .dataframe tbody tr th {\n",
       "        vertical-align: top;\n",
       "    }\n",
       "\n",
       "    .dataframe thead th {\n",
       "        text-align: right;\n",
       "    }\n",
       "</style>\n",
       "<table border=\"1\" class=\"dataframe\">\n",
       "  <thead>\n",
       "    <tr style=\"text-align: right;\">\n",
       "      <th></th>\n",
       "      <th>County</th>\n",
       "      <th>County Code</th>\n",
       "      <th>Avg Daily Sunlight (KJ/m²)</th>\n",
       "    </tr>\n",
       "  </thead>\n",
       "  <tbody>\n",
       "    <tr>\n",
       "      <th>0</th>\n",
       "      <td>Autauga County, AL</td>\n",
       "      <td>01001</td>\n",
       "      <td>17103.72</td>\n",
       "    </tr>\n",
       "    <tr>\n",
       "      <th>1</th>\n",
       "      <td>Baldwin County, AL</td>\n",
       "      <td>01003</td>\n",
       "      <td>17660.59</td>\n",
       "    </tr>\n",
       "    <tr>\n",
       "      <th>2</th>\n",
       "      <td>Barbour County, AL</td>\n",
       "      <td>01005</td>\n",
       "      <td>17315.13</td>\n",
       "    </tr>\n",
       "    <tr>\n",
       "      <th>3</th>\n",
       "      <td>Bibb County, AL</td>\n",
       "      <td>01007</td>\n",
       "      <td>16904.87</td>\n",
       "    </tr>\n",
       "    <tr>\n",
       "      <th>4</th>\n",
       "      <td>Blount County, AL</td>\n",
       "      <td>01009</td>\n",
       "      <td>16393.63</td>\n",
       "    </tr>\n",
       "  </tbody>\n",
       "</table>\n",
       "</div>"
      ],
      "text/plain": [
       "               County County Code  Avg Daily Sunlight (KJ/m²)\n",
       "0  Autauga County, AL       01001                    17103.72\n",
       "1  Baldwin County, AL       01003                    17660.59\n",
       "2  Barbour County, AL       01005                    17315.13\n",
       "3     Bibb County, AL       01007                    16904.87\n",
       "4   Blount County, AL       01009                    16393.63"
      ]
     },
     "execution_count": 54,
     "metadata": {},
     "output_type": "execute_result"
    }
   ],
   "source": [
    "sunny_data.head()"
   ]
  },
  {
   "cell_type": "code",
   "execution_count": 55,
   "metadata": {},
   "outputs": [],
   "source": [
    "# Slice county FIPS code into state code and county code\n",
    "sunny_data['state_id'] = sunny_data['County Code'].str.slice(stop=2)\n",
    "sunny_data['county_id'] = sunny_data['County Code'].str.slice(start=2)"
   ]
  },
  {
   "cell_type": "code",
   "execution_count": 56,
   "metadata": {
    "scrolled": true
   },
   "outputs": [
    {
     "data": {
      "text/html": [
       "<div>\n",
       "<style scoped>\n",
       "    .dataframe tbody tr th:only-of-type {\n",
       "        vertical-align: middle;\n",
       "    }\n",
       "\n",
       "    .dataframe tbody tr th {\n",
       "        vertical-align: top;\n",
       "    }\n",
       "\n",
       "    .dataframe thead th {\n",
       "        text-align: right;\n",
       "    }\n",
       "</style>\n",
       "<table border=\"1\" class=\"dataframe\">\n",
       "  <thead>\n",
       "    <tr style=\"text-align: right;\">\n",
       "      <th></th>\n",
       "      <th>County</th>\n",
       "      <th>County Code</th>\n",
       "      <th>Avg Daily Sunlight (KJ/m²)</th>\n",
       "      <th>state_id</th>\n",
       "      <th>county_id</th>\n",
       "    </tr>\n",
       "  </thead>\n",
       "  <tbody>\n",
       "    <tr>\n",
       "      <th>0</th>\n",
       "      <td>Autauga County, AL</td>\n",
       "      <td>01001</td>\n",
       "      <td>17103.72</td>\n",
       "      <td>01</td>\n",
       "      <td>001</td>\n",
       "    </tr>\n",
       "    <tr>\n",
       "      <th>1</th>\n",
       "      <td>Baldwin County, AL</td>\n",
       "      <td>01003</td>\n",
       "      <td>17660.59</td>\n",
       "      <td>01</td>\n",
       "      <td>003</td>\n",
       "    </tr>\n",
       "    <tr>\n",
       "      <th>2</th>\n",
       "      <td>Barbour County, AL</td>\n",
       "      <td>01005</td>\n",
       "      <td>17315.13</td>\n",
       "      <td>01</td>\n",
       "      <td>005</td>\n",
       "    </tr>\n",
       "    <tr>\n",
       "      <th>3</th>\n",
       "      <td>Bibb County, AL</td>\n",
       "      <td>01007</td>\n",
       "      <td>16904.87</td>\n",
       "      <td>01</td>\n",
       "      <td>007</td>\n",
       "    </tr>\n",
       "    <tr>\n",
       "      <th>4</th>\n",
       "      <td>Blount County, AL</td>\n",
       "      <td>01009</td>\n",
       "      <td>16393.63</td>\n",
       "      <td>01</td>\n",
       "      <td>009</td>\n",
       "    </tr>\n",
       "  </tbody>\n",
       "</table>\n",
       "</div>"
      ],
      "text/plain": [
       "               County County Code  Avg Daily Sunlight (KJ/m²) state_id  \\\n",
       "0  Autauga County, AL       01001                    17103.72       01   \n",
       "1  Baldwin County, AL       01003                    17660.59       01   \n",
       "2  Barbour County, AL       01005                    17315.13       01   \n",
       "3     Bibb County, AL       01007                    16904.87       01   \n",
       "4   Blount County, AL       01009                    16393.63       01   \n",
       "\n",
       "  county_id  \n",
       "0       001  \n",
       "1       003  \n",
       "2       005  \n",
       "3       007  \n",
       "4       009  "
      ]
     },
     "execution_count": 56,
     "metadata": {},
     "output_type": "execute_result"
    }
   ],
   "source": [
    "sunny_data.head()"
   ]
  },
  {
   "cell_type": "code",
   "execution_count": 57,
   "metadata": {},
   "outputs": [],
   "source": [
    "# Create a map between state/county and avg daily sunlight\n",
    "county2sunny = {(row['state_id'],row['county_id']):row['Avg Daily Sunlight (KJ/m²)']\n",
    "                for i, row in sunny_data.iterrows()}"
   ]
  },
  {
   "cell_type": "code",
   "execution_count": 58,
   "metadata": {},
   "outputs": [],
   "source": [
    "# We will need to scale the sunniness values to lie between 0 and 1\n",
    "min_sun = min(county2sunny.values())\n",
    "max_sun = max(county2sunny.values())\n",
    "sun_range = max_sun - min_sun"
   ]
  },
  {
   "cell_type": "code",
   "execution_count": 59,
   "metadata": {},
   "outputs": [],
   "source": [
    "from matplotlib.cm import coolwarm\n",
    "from matplotlib.cm import Reds\n",
    "\n",
    "def calculate_sunny(sun):\n",
    "    # make sunniness a number between 0 and 1\n",
    "    normalized_sun = (sun - min_sun) / sun_range\n",
    "    \n",
    "    # transform the sunniness to a matplotlib color\n",
    "    mpl_color = Reds(normalized_sun)\n",
    "\n",
    "    # transform from a matplotlib color to a valid CSS color\n",
    "    gmaps_color = to_hex(mpl_color, keep_alpha=False)\n",
    "\n",
    "    return gmaps_color"
   ]
  },
  {
   "cell_type": "code",
   "execution_count": 60,
   "metadata": {},
   "outputs": [],
   "source": [
    "sun_colors = []\n",
    "\n",
    "for feature in counties_geojson['features']:\n",
    "    state = feature['properties']['STATE']\n",
    "    county = feature['properties']['COUNTY']\n",
    "    try:\n",
    "        sun = county2sunny[(state,county)]\n",
    "        color = calculate_sunny(sun)\n",
    "    except KeyError:\n",
    "        # no sun for that county: return default color\n",
    "        color = (0, 0, 0, 0.3)\n",
    "    sun_colors.append(color)"
   ]
  },
  {
   "cell_type": "code",
   "execution_count": 61,
   "metadata": {},
   "outputs": [
    {
     "data": {
      "application/vnd.jupyter.widget-view+json": {
       "model_id": "b19c366d3726487b95784b8f785268d2",
       "version_major": 2,
       "version_minor": 0
      },
      "text/plain": [
       "Figure(layout=FigureLayout(height='420px'))"
      ]
     },
     "metadata": {},
     "output_type": "display_data"
    }
   ],
   "source": [
    "fig = gmaps.figure(center = (38.8283, -98.5795), zoom_level = 4)\n",
    "counties_layer = gmaps.geojson_layer(counties_geojson, fill_color=sun_colors, stroke_color=sun_colors,\n",
    "                                     fill_opacity=0.8)\n",
    "fig.add_layer(counties_layer)\n",
    "install_locs = open_pv_w_loc2[['Lat','Lng']]\n",
    "# hover_text = [\"Size (kW): {}\".format(row['size_kw']) for i, row in open_pv_w_loc2.iterrows()]\n",
    "size = [int(x) for i, x in open_pv_w_loc2['size_normed'].iteritems()]\n",
    "fig.add_layer(gmaps.symbol_layer(install_locs, fill_opacity=.5, stroke_opacity = .5,\n",
    "                                 fill_color = 'blue',\n",
    "                                 stroke_color = 'blue', scale = size))\n",
    "fig"
   ]
  },
  {
   "cell_type": "code",
   "execution_count": 62,
   "metadata": {},
   "outputs": [
    {
     "data": {
      "text/html": [
       "<div>\n",
       "<style scoped>\n",
       "    .dataframe tbody tr th:only-of-type {\n",
       "        vertical-align: middle;\n",
       "    }\n",
       "\n",
       "    .dataframe tbody tr th {\n",
       "        vertical-align: top;\n",
       "    }\n",
       "\n",
       "    .dataframe thead th {\n",
       "        text-align: right;\n",
       "    }\n",
       "</style>\n",
       "<table border=\"1\" class=\"dataframe\">\n",
       "  <thead>\n",
       "    <tr style=\"text-align: right;\">\n",
       "      <th></th>\n",
       "      <th>state</th>\n",
       "      <th>date_installed</th>\n",
       "      <th>incentive_prog_names</th>\n",
       "      <th>type</th>\n",
       "      <th>size_kw</th>\n",
       "      <th>appraised</th>\n",
       "      <th>zipcode</th>\n",
       "      <th>install_type</th>\n",
       "      <th>installer</th>\n",
       "      <th>cost_per_watt</th>\n",
       "      <th>...</th>\n",
       "      <th>State</th>\n",
       "      <th>State Code</th>\n",
       "      <th>Unk1</th>\n",
       "      <th>Unk2</th>\n",
       "      <th>Unk3</th>\n",
       "      <th>Unk4</th>\n",
       "      <th>Lat</th>\n",
       "      <th>Lng</th>\n",
       "      <th>Unk5</th>\n",
       "      <th>size_normed</th>\n",
       "    </tr>\n",
       "  </thead>\n",
       "  <tbody>\n",
       "    <tr>\n",
       "      <th>54</th>\n",
       "      <td>TX</td>\n",
       "      <td>08/11/2016</td>\n",
       "      <td>NaN</td>\n",
       "      <td>uir</td>\n",
       "      <td>31191.00</td>\n",
       "      <td>NaN</td>\n",
       "      <td>75075</td>\n",
       "      <td>Residential</td>\n",
       "      <td>Axium Solar</td>\n",
       "      <td>NaN</td>\n",
       "      <td>...</td>\n",
       "      <td>Texas</td>\n",
       "      <td>TX</td>\n",
       "      <td>Collin</td>\n",
       "      <td>85.0</td>\n",
       "      <td>NaN</td>\n",
       "      <td>NaN</td>\n",
       "      <td>33.0250</td>\n",
       "      <td>-96.7397</td>\n",
       "      <td>4.0</td>\n",
       "      <td>11</td>\n",
       "    </tr>\n",
       "    <tr>\n",
       "      <th>113</th>\n",
       "      <td>TX</td>\n",
       "      <td>09/15/2017</td>\n",
       "      <td>NaN</td>\n",
       "      <td>uir</td>\n",
       "      <td>8791.35</td>\n",
       "      <td>NaN</td>\n",
       "      <td>75024</td>\n",
       "      <td>Commercial</td>\n",
       "      <td>Axium Solar</td>\n",
       "      <td>NaN</td>\n",
       "      <td>...</td>\n",
       "      <td>Texas</td>\n",
       "      <td>TX</td>\n",
       "      <td>Collin</td>\n",
       "      <td>85.0</td>\n",
       "      <td>NaN</td>\n",
       "      <td>NaN</td>\n",
       "      <td>33.0752</td>\n",
       "      <td>-96.7843</td>\n",
       "      <td>4.0</td>\n",
       "      <td>3</td>\n",
       "    </tr>\n",
       "    <tr>\n",
       "      <th>218</th>\n",
       "      <td>AL</td>\n",
       "      <td>01/04/2017</td>\n",
       "      <td>NaN</td>\n",
       "      <td>uir</td>\n",
       "      <td>3000.00</td>\n",
       "      <td>NaN</td>\n",
       "      <td>36912</td>\n",
       "      <td>Commercial</td>\n",
       "      <td>NaN</td>\n",
       "      <td>NaN</td>\n",
       "      <td>...</td>\n",
       "      <td>Alabama</td>\n",
       "      <td>AL</td>\n",
       "      <td>Choctaw</td>\n",
       "      <td>23.0</td>\n",
       "      <td>NaN</td>\n",
       "      <td>NaN</td>\n",
       "      <td>32.2177</td>\n",
       "      <td>-88.3234</td>\n",
       "      <td>4.0</td>\n",
       "      <td>1</td>\n",
       "    </tr>\n",
       "    <tr>\n",
       "      <th>839</th>\n",
       "      <td>IN</td>\n",
       "      <td>11/02/2018</td>\n",
       "      <td>NaN</td>\n",
       "      <td>uir</td>\n",
       "      <td>2721.00</td>\n",
       "      <td>NaN</td>\n",
       "      <td>47711</td>\n",
       "      <td>Commercial</td>\n",
       "      <td>Morton Solar, LLC</td>\n",
       "      <td>1.3</td>\n",
       "      <td>...</td>\n",
       "      <td>Indiana</td>\n",
       "      <td>IN</td>\n",
       "      <td>Vanderburgh</td>\n",
       "      <td>163.0</td>\n",
       "      <td>NaN</td>\n",
       "      <td>NaN</td>\n",
       "      <td>38.0617</td>\n",
       "      <td>-87.5548</td>\n",
       "      <td>4.0</td>\n",
       "      <td>1</td>\n",
       "    </tr>\n",
       "    <tr>\n",
       "      <th>234</th>\n",
       "      <td>TX</td>\n",
       "      <td>01/06/2017</td>\n",
       "      <td>NaN</td>\n",
       "      <td>uir</td>\n",
       "      <td>1111.59</td>\n",
       "      <td>NaN</td>\n",
       "      <td>75211</td>\n",
       "      <td>Commercial</td>\n",
       "      <td>Axium Solar</td>\n",
       "      <td>NaN</td>\n",
       "      <td>...</td>\n",
       "      <td>Texas</td>\n",
       "      <td>TX</td>\n",
       "      <td>Dallas</td>\n",
       "      <td>113.0</td>\n",
       "      <td>NaN</td>\n",
       "      <td>NaN</td>\n",
       "      <td>32.7319</td>\n",
       "      <td>-96.9057</td>\n",
       "      <td>4.0</td>\n",
       "      <td>1</td>\n",
       "    </tr>\n",
       "  </tbody>\n",
       "</table>\n",
       "<p>5 rows × 94 columns</p>\n",
       "</div>"
      ],
      "text/plain": [
       "    state date_installed incentive_prog_names type   size_kw appraised  \\\n",
       "54     TX     08/11/2016                  NaN  uir  31191.00       NaN   \n",
       "113    TX     09/15/2017                  NaN  uir   8791.35       NaN   \n",
       "218    AL     01/04/2017                  NaN  uir   3000.00       NaN   \n",
       "839    IN     11/02/2018                  NaN  uir   2721.00       NaN   \n",
       "234    TX     01/06/2017                  NaN  uir   1111.59       NaN   \n",
       "\n",
       "    zipcode install_type          installer  cost_per_watt     ...       \\\n",
       "54    75075  Residential        Axium Solar            NaN     ...        \n",
       "113   75024   Commercial        Axium Solar            NaN     ...        \n",
       "218   36912   Commercial                NaN            NaN     ...        \n",
       "839   47711   Commercial  Morton Solar, LLC            1.3     ...        \n",
       "234   75211   Commercial        Axium Solar            NaN     ...        \n",
       "\n",
       "       State  State Code         Unk1   Unk2 Unk3 Unk4      Lat      Lng  \\\n",
       "54     Texas          TX       Collin   85.0  NaN  NaN  33.0250 -96.7397   \n",
       "113    Texas          TX       Collin   85.0  NaN  NaN  33.0752 -96.7843   \n",
       "218  Alabama          AL      Choctaw   23.0  NaN  NaN  32.2177 -88.3234   \n",
       "839  Indiana          IN  Vanderburgh  163.0  NaN  NaN  38.0617 -87.5548   \n",
       "234    Texas          TX       Dallas  113.0  NaN  NaN  32.7319 -96.9057   \n",
       "\n",
       "     Unk5  size_normed  \n",
       "54    4.0           11  \n",
       "113   4.0            3  \n",
       "218   4.0            1  \n",
       "839   4.0            1  \n",
       "234   4.0            1  \n",
       "\n",
       "[5 rows x 94 columns]"
      ]
     },
     "execution_count": 62,
     "metadata": {},
     "output_type": "execute_result"
    }
   ],
   "source": [
    "open_pv_w_loc2.sort_values('size_kw', ascending=False).head()"
   ]
  },
  {
   "cell_type": "code",
   "execution_count": 63,
   "metadata": {
    "scrolled": true
   },
   "outputs": [
    {
     "data": {
      "text/plain": [
       "state                                           TX\n",
       "date_installed                          08/11/2016\n",
       "incentive_prog_names                           NaN\n",
       "type                                           uir\n",
       "size_kw                                      31191\n",
       "appraised                                      NaN\n",
       "zipcode                                      75075\n",
       "install_type                           Residential\n",
       "installer                              Axium Solar\n",
       "cost_per_watt                                  NaN\n",
       "cost                                           NaN\n",
       "lbnl_tts_version_year                          NaN\n",
       "lbnl_tts                                       NaN\n",
       "city                                         Plano\n",
       "utility_clean                                  NaN\n",
       "tech_1                                         NaN\n",
       "model1_clean                                   NaN\n",
       "county                                         NaN\n",
       "annual_PV_prod                                 NaN\n",
       "annual_insolation                              NaN\n",
       "rebate                                         NaN\n",
       "sales_tax_cost                                 NaN\n",
       "tilt1                                          NaN\n",
       "tracking_type                                  NaN\n",
       "azimuth1                                       NaN\n",
       "manuf2_clean                                   NaN\n",
       "manuf3_clean                                   NaN\n",
       "manuf1_clean                                   NaN\n",
       "inv_man_clean                                  NaN\n",
       "reported_annual_energy_prod                    NaN\n",
       "                                      ...         \n",
       "sales_tax_rate                                 NaN\n",
       "sales_tax_cost_real                            NaN\n",
       "bipv_all                                       NaN\n",
       "thinfilm_all                                   NaN\n",
       "china                                          NaN\n",
       "sys_sizeac                                     NaN\n",
       "pbi_rate                                       NaN\n",
       "new_constr                                     NaN\n",
       "effic_1                                        NaN\n",
       "cust_county                                    NaN\n",
       "tracking                                       NaN\n",
       "inv_model_clean                                NaN\n",
       "mod_cost_real                                  NaN\n",
       "inv_cost_real                                  NaN\n",
       "bos_powerclerk_real                            NaN\n",
       "permitting_real                                NaN\n",
       "3rdparty                                       NaN\n",
       "date_installed_dt              2016-08-11 00:00:00\n",
       "Country                                         US\n",
       "City                                         Plano\n",
       "State                                        Texas\n",
       "State Code                                      TX\n",
       "Unk1                                        Collin\n",
       "Unk2                                            85\n",
       "Unk3                                           NaN\n",
       "Unk4                                           NaN\n",
       "Lat                                         33.025\n",
       "Lng                                       -96.7397\n",
       "Unk5                                             4\n",
       "size_normed                                     11\n",
       "Name: 54, Length: 94, dtype: object"
      ]
     },
     "execution_count": 63,
     "metadata": {},
     "output_type": "execute_result"
    }
   ],
   "source": [
    "open_pv_w_loc2.loc[54].T"
   ]
  },
  {
   "cell_type": "markdown",
   "metadata": {},
   "source": [
    "## Clustering the Data for Visualization\n",
    "### Limiting installs to >2016 appears to bias data, but gmaps package cannot handle full dataset.\n",
    "### 1 million points is too many; cluster them using K-Means"
   ]
  },
  {
   "cell_type": "code",
   "execution_count": 64,
   "metadata": {},
   "outputs": [],
   "source": [
    "# Go through process of joining on ZIP Code coordinates again\n",
    "open_pv_cluster = open_pv[open_pv['zipcode'].notnull()].copy()"
   ]
  },
  {
   "cell_type": "code",
   "execution_count": 65,
   "metadata": {},
   "outputs": [],
   "source": [
    "open_pv_cluster2 = pd.merge(open_pv_cluster, zip_code_info, how = 'left', on = 'zipcode')"
   ]
  },
  {
   "cell_type": "code",
   "execution_count": 66,
   "metadata": {},
   "outputs": [],
   "source": [
    "# Drop out rows with null lat and lng\n",
    "open_pv_cluster3 = open_pv_cluster2[open_pv_cluster2['Lat'].notnull() & open_pv_cluster2['Lng'].notnull()].copy()"
   ]
  },
  {
   "cell_type": "code",
   "execution_count": 67,
   "metadata": {},
   "outputs": [],
   "source": [
    "# Limit to post-1993 (this contains the bulk of the data)\n",
    "open_pv_cluster4 = open_pv_cluster3[open_pv_cluster3['date_installed_dt'] > '1993'].copy()"
   ]
  },
  {
   "cell_type": "code",
   "execution_count": 32,
   "metadata": {},
   "outputs": [],
   "source": [
    "# open_pv_cluster4 = open_pv_cluster3.copy()"
   ]
  },
  {
   "cell_type": "code",
   "execution_count": 68,
   "metadata": {},
   "outputs": [
    {
     "data": {
      "text/plain": [
       "(1020545, 93)"
      ]
     },
     "execution_count": 68,
     "metadata": {},
     "output_type": "execute_result"
    }
   ],
   "source": [
    "open_pv_cluster4.shape"
   ]
  },
  {
   "cell_type": "code",
   "execution_count": 69,
   "metadata": {},
   "outputs": [
    {
     "name": "stdout",
     "output_type": "stream",
     "text": [
      "2019-04-11 20:15:25.997025\n"
     ]
    },
    {
     "name": "stderr",
     "output_type": "stream",
     "text": [
      "/anaconda3/lib/python3.7/site-packages/sklearn/cluster/k_means_.py:1559: RuntimeWarning: init_size=300 should be larger than k=1000. Setting it to 3*k\n",
      "  init_size=init_size)\n",
      "/anaconda3/lib/python3.7/site-packages/sklearn/cluster/k_means_.py:1559: RuntimeWarning: init_size=300 should be larger than k=1000. Setting it to 3*k\n",
      "  init_size=init_size)\n",
      "/anaconda3/lib/python3.7/site-packages/sklearn/cluster/k_means_.py:1559: RuntimeWarning: init_size=300 should be larger than k=1000. Setting it to 3*k\n",
      "  init_size=init_size)\n"
     ]
    },
    {
     "name": "stdout",
     "output_type": "stream",
     "text": [
      "2019-04-11 20:15:34.931215\n"
     ]
    }
   ],
   "source": [
    "# Run mini-batch K-Means on data\n",
    "\n",
    "from sklearn.cluster import MiniBatchKMeans\n",
    "from datetime import datetime\n",
    "\n",
    "print(datetime.now())\n",
    "\n",
    "X = open_pv_cluster4[['Lat','Lng']]\n",
    "\n",
    "kmeans = MiniBatchKMeans(n_clusters=1000, random_state=0, batch_size=100).fit(X)\n",
    "\n",
    "print(datetime.now())"
   ]
  },
  {
   "cell_type": "code",
   "execution_count": 70,
   "metadata": {},
   "outputs": [],
   "source": [
    "# Create new column with cluster indices\n",
    "open_pv_cluster4['new_loc_ind'] = kmeans.predict(X)"
   ]
  },
  {
   "cell_type": "code",
   "execution_count": 71,
   "metadata": {},
   "outputs": [],
   "source": [
    "# Turn predicted clusters into a DataFrame\n",
    "new_locs = pd.DataFrame(kmeans.cluster_centers_, columns = ['new_lat','new_lng'])"
   ]
  },
  {
   "cell_type": "code",
   "execution_count": 72,
   "metadata": {},
   "outputs": [],
   "source": [
    "# Merge simplified (clustered) locations onto main dataframe\n",
    "open_pv_cluster5 = pd.merge(open_pv_cluster4, new_locs, how = 'left', left_on = 'new_loc_ind', right_index = True)"
   ]
  },
  {
   "cell_type": "code",
   "execution_count": 73,
   "metadata": {
    "scrolled": true
   },
   "outputs": [
    {
     "data": {
      "text/html": [
       "<div>\n",
       "<style scoped>\n",
       "    .dataframe tbody tr th:only-of-type {\n",
       "        vertical-align: middle;\n",
       "    }\n",
       "\n",
       "    .dataframe tbody tr th {\n",
       "        vertical-align: top;\n",
       "    }\n",
       "\n",
       "    .dataframe thead th {\n",
       "        text-align: right;\n",
       "    }\n",
       "</style>\n",
       "<table border=\"1\" class=\"dataframe\">\n",
       "  <thead>\n",
       "    <tr style=\"text-align: right;\">\n",
       "      <th></th>\n",
       "      <th>state</th>\n",
       "      <th>date_installed</th>\n",
       "      <th>incentive_prog_names</th>\n",
       "      <th>type</th>\n",
       "      <th>size_kw</th>\n",
       "      <th>appraised</th>\n",
       "      <th>zipcode</th>\n",
       "      <th>install_type</th>\n",
       "      <th>installer</th>\n",
       "      <th>cost_per_watt</th>\n",
       "      <th>...</th>\n",
       "      <th>Unk1</th>\n",
       "      <th>Unk2</th>\n",
       "      <th>Unk3</th>\n",
       "      <th>Unk4</th>\n",
       "      <th>Lat</th>\n",
       "      <th>Lng</th>\n",
       "      <th>Unk5</th>\n",
       "      <th>new_loc_ind</th>\n",
       "      <th>new_lat</th>\n",
       "      <th>new_lng</th>\n",
       "    </tr>\n",
       "  </thead>\n",
       "  <tbody>\n",
       "    <tr>\n",
       "      <th>0</th>\n",
       "      <td>TX</td>\n",
       "      <td>12/12/2013</td>\n",
       "      <td>Austin Energy</td>\n",
       "      <td>uir</td>\n",
       "      <td>10.560</td>\n",
       "      <td>NaN</td>\n",
       "      <td>78702</td>\n",
       "      <td>residential</td>\n",
       "      <td>NaN</td>\n",
       "      <td>2.897777</td>\n",
       "      <td>...</td>\n",
       "      <td>Travis</td>\n",
       "      <td>453.0</td>\n",
       "      <td>NaN</td>\n",
       "      <td>NaN</td>\n",
       "      <td>30.2638</td>\n",
       "      <td>-97.7166</td>\n",
       "      <td>4.0</td>\n",
       "      <td>543</td>\n",
       "      <td>30.28405</td>\n",
       "      <td>-97.6632</td>\n",
       "    </tr>\n",
       "    <tr>\n",
       "      <th>1</th>\n",
       "      <td>TX</td>\n",
       "      <td>07/11/2014</td>\n",
       "      <td>Austin Energy</td>\n",
       "      <td>uir</td>\n",
       "      <td>12.720</td>\n",
       "      <td>NaN</td>\n",
       "      <td>78702</td>\n",
       "      <td>residential</td>\n",
       "      <td>NaN</td>\n",
       "      <td>3.144654</td>\n",
       "      <td>...</td>\n",
       "      <td>Travis</td>\n",
       "      <td>453.0</td>\n",
       "      <td>NaN</td>\n",
       "      <td>NaN</td>\n",
       "      <td>30.2638</td>\n",
       "      <td>-97.7166</td>\n",
       "      <td>4.0</td>\n",
       "      <td>543</td>\n",
       "      <td>30.28405</td>\n",
       "      <td>-97.6632</td>\n",
       "    </tr>\n",
       "    <tr>\n",
       "      <th>2</th>\n",
       "      <td>TX</td>\n",
       "      <td>01/17/2014</td>\n",
       "      <td>Austin Energy</td>\n",
       "      <td>uir</td>\n",
       "      <td>5.400</td>\n",
       "      <td>NaN</td>\n",
       "      <td>78702</td>\n",
       "      <td>residential</td>\n",
       "      <td>NaN</td>\n",
       "      <td>4.197330</td>\n",
       "      <td>...</td>\n",
       "      <td>Travis</td>\n",
       "      <td>453.0</td>\n",
       "      <td>NaN</td>\n",
       "      <td>NaN</td>\n",
       "      <td>30.2638</td>\n",
       "      <td>-97.7166</td>\n",
       "      <td>4.0</td>\n",
       "      <td>543</td>\n",
       "      <td>30.28405</td>\n",
       "      <td>-97.6632</td>\n",
       "    </tr>\n",
       "    <tr>\n",
       "      <th>3</th>\n",
       "      <td>IN</td>\n",
       "      <td>10/06/2017</td>\n",
       "      <td>NaN</td>\n",
       "      <td>uir</td>\n",
       "      <td>6.785</td>\n",
       "      <td>NaN</td>\n",
       "      <td>47403</td>\n",
       "      <td>Residential</td>\n",
       "      <td>Whole Sun Designs</td>\n",
       "      <td>2.590000</td>\n",
       "      <td>...</td>\n",
       "      <td>Monroe</td>\n",
       "      <td>105.0</td>\n",
       "      <td>NaN</td>\n",
       "      <td>NaN</td>\n",
       "      <td>39.1263</td>\n",
       "      <td>-86.5769</td>\n",
       "      <td>4.0</td>\n",
       "      <td>108</td>\n",
       "      <td>38.17060</td>\n",
       "      <td>-87.0070</td>\n",
       "    </tr>\n",
       "    <tr>\n",
       "      <th>4</th>\n",
       "      <td>IN</td>\n",
       "      <td>10/06/2017</td>\n",
       "      <td>NaN</td>\n",
       "      <td>uir</td>\n",
       "      <td>4.720</td>\n",
       "      <td>NaN</td>\n",
       "      <td>47408</td>\n",
       "      <td>Residential</td>\n",
       "      <td>Whole Sun Designs</td>\n",
       "      <td>2.570000</td>\n",
       "      <td>...</td>\n",
       "      <td>Monroe</td>\n",
       "      <td>105.0</td>\n",
       "      <td>NaN</td>\n",
       "      <td>NaN</td>\n",
       "      <td>39.2303</td>\n",
       "      <td>-86.4692</td>\n",
       "      <td>4.0</td>\n",
       "      <td>108</td>\n",
       "      <td>38.17060</td>\n",
       "      <td>-87.0070</td>\n",
       "    </tr>\n",
       "  </tbody>\n",
       "</table>\n",
       "<p>5 rows × 96 columns</p>\n",
       "</div>"
      ],
      "text/plain": [
       "  state date_installed incentive_prog_names type  size_kw appraised zipcode  \\\n",
       "0    TX     12/12/2013        Austin Energy  uir   10.560       NaN   78702   \n",
       "1    TX     07/11/2014        Austin Energy  uir   12.720       NaN   78702   \n",
       "2    TX     01/17/2014        Austin Energy  uir    5.400       NaN   78702   \n",
       "3    IN     10/06/2017                  NaN  uir    6.785       NaN   47403   \n",
       "4    IN     10/06/2017                  NaN  uir    4.720       NaN   47408   \n",
       "\n",
       "  install_type          installer  cost_per_watt   ...       Unk1   Unk2 Unk3  \\\n",
       "0  residential                NaN       2.897777   ...     Travis  453.0  NaN   \n",
       "1  residential                NaN       3.144654   ...     Travis  453.0  NaN   \n",
       "2  residential                NaN       4.197330   ...     Travis  453.0  NaN   \n",
       "3  Residential  Whole Sun Designs       2.590000   ...     Monroe  105.0  NaN   \n",
       "4  Residential  Whole Sun Designs       2.570000   ...     Monroe  105.0  NaN   \n",
       "\n",
       "  Unk4      Lat      Lng Unk5 new_loc_ind   new_lat  new_lng  \n",
       "0  NaN  30.2638 -97.7166  4.0         543  30.28405 -97.6632  \n",
       "1  NaN  30.2638 -97.7166  4.0         543  30.28405 -97.6632  \n",
       "2  NaN  30.2638 -97.7166  4.0         543  30.28405 -97.6632  \n",
       "3  NaN  39.1263 -86.5769  4.0         108  38.17060 -87.0070  \n",
       "4  NaN  39.2303 -86.4692  4.0         108  38.17060 -87.0070  \n",
       "\n",
       "[5 rows x 96 columns]"
      ]
     },
     "execution_count": 73,
     "metadata": {},
     "output_type": "execute_result"
    }
   ],
   "source": [
    "open_pv_cluster5.head()"
   ]
  },
  {
   "cell_type": "code",
   "execution_count": 74,
   "metadata": {},
   "outputs": [],
   "source": [
    "# Combine the clustered (re-mapped) points and sum the kW sizes of the installs\n",
    "open_pv_cluster6 = open_pv_cluster5.groupby(['new_loc_ind','new_lat','new_lng'])['size_kw'].sum().reset_index()"
   ]
  },
  {
   "cell_type": "markdown",
   "metadata": {},
   "source": [
    "### Tangent: Investigate huge cluster around Sacramento"
   ]
  },
  {
   "cell_type": "code",
   "execution_count": 75,
   "metadata": {},
   "outputs": [
    {
     "data": {
      "text/html": [
       "<div>\n",
       "<style scoped>\n",
       "    .dataframe tbody tr th:only-of-type {\n",
       "        vertical-align: middle;\n",
       "    }\n",
       "\n",
       "    .dataframe tbody tr th {\n",
       "        vertical-align: top;\n",
       "    }\n",
       "\n",
       "    .dataframe thead th {\n",
       "        text-align: right;\n",
       "    }\n",
       "</style>\n",
       "<table border=\"1\" class=\"dataframe\">\n",
       "  <thead>\n",
       "    <tr style=\"text-align: right;\">\n",
       "      <th></th>\n",
       "      <th>new_loc_ind</th>\n",
       "      <th>new_lat</th>\n",
       "      <th>new_lng</th>\n",
       "      <th>size_kw</th>\n",
       "    </tr>\n",
       "  </thead>\n",
       "  <tbody>\n",
       "    <tr>\n",
       "      <th>834</th>\n",
       "      <td>854</td>\n",
       "      <td>38.7703</td>\n",
       "      <td>-121.3372</td>\n",
       "      <td>1.050736e+06</td>\n",
       "    </tr>\n",
       "    <tr>\n",
       "      <th>587</th>\n",
       "      <td>601</td>\n",
       "      <td>33.3703</td>\n",
       "      <td>-112.5838</td>\n",
       "      <td>4.663684e+05</td>\n",
       "    </tr>\n",
       "    <tr>\n",
       "      <th>802</th>\n",
       "      <td>820</td>\n",
       "      <td>40.3324</td>\n",
       "      <td>-74.5688</td>\n",
       "      <td>1.278303e+05</td>\n",
       "    </tr>\n",
       "    <tr>\n",
       "      <th>825</th>\n",
       "      <td>844</td>\n",
       "      <td>29.4388</td>\n",
       "      <td>-98.4935</td>\n",
       "      <td>9.377957e+04</td>\n",
       "    </tr>\n",
       "    <tr>\n",
       "      <th>313</th>\n",
       "      <td>313</td>\n",
       "      <td>36.1624</td>\n",
       "      <td>-120.3489</td>\n",
       "      <td>8.958822e+04</td>\n",
       "    </tr>\n",
       "  </tbody>\n",
       "</table>\n",
       "</div>"
      ],
      "text/plain": [
       "     new_loc_ind  new_lat   new_lng       size_kw\n",
       "834          854  38.7703 -121.3372  1.050736e+06\n",
       "587          601  33.3703 -112.5838  4.663684e+05\n",
       "802          820  40.3324  -74.5688  1.278303e+05\n",
       "825          844  29.4388  -98.4935  9.377957e+04\n",
       "313          313  36.1624 -120.3489  8.958822e+04"
      ]
     },
     "execution_count": 75,
     "metadata": {},
     "output_type": "execute_result"
    }
   ],
   "source": [
    "open_pv_cluster6.sort_values('size_kw', ascending = False).head()"
   ]
  },
  {
   "cell_type": "code",
   "execution_count": 76,
   "metadata": {},
   "outputs": [
    {
     "name": "stdout",
     "output_type": "stream",
     "text": [
      "# of installs in Sac cluster:  1305\n"
     ]
    }
   ],
   "source": [
    "# Size of Sacramento cluster\n",
    "print('# of installs in Sac cluster: ',len(open_pv_cluster5.loc[open_pv_cluster5['new_loc_ind']==854]))"
   ]
  },
  {
   "cell_type": "code",
   "execution_count": 77,
   "metadata": {},
   "outputs": [
    {
     "name": "stdout",
     "output_type": "stream",
     "text": [
      "Sacramento cluster date range\n",
      "Min install date:  2003-05-06 00:00:00\n",
      "Max install date:  2015-12-30 00:00:00\n"
     ]
    }
   ],
   "source": [
    "print('Sacramento cluster date range')\n",
    "print('Min install date: ',open_pv_cluster5.loc[open_pv_cluster5['new_loc_ind']==854,'date_installed_dt'].min())\n",
    "print('Max install date: ',open_pv_cluster5.loc[open_pv_cluster5['new_loc_ind']==854,'date_installed_dt'].max())"
   ]
  },
  {
   "cell_type": "code",
   "execution_count": 78,
   "metadata": {},
   "outputs": [
    {
     "data": {
      "image/png": "[encoded data removed]",
      "text/plain": [
       "<Figure size 432x288 with 1 Axes>"
      ]
     },
     "metadata": {
      "needs_background": "light"
     },
     "output_type": "display_data"
    }
   ],
   "source": [
    "# Distribution of installs\n",
    "plt.hist(open_pv_cluster5.loc[open_pv_cluster5['new_loc_ind']==854,'date_installed_dt'].dt.year)\n",
    "plt.title('Distribution of install years around Sacramento')\n",
    "plt.show()"
   ]
  },
  {
   "cell_type": "code",
   "execution_count": 79,
   "metadata": {},
   "outputs": [
    {
     "data": {
      "text/plain": [
       "(977, 4)"
      ]
     },
     "execution_count": 79,
     "metadata": {},
     "output_type": "execute_result"
    }
   ],
   "source": [
    "open_pv_cluster6.shape"
   ]
  },
  {
   "cell_type": "markdown",
   "metadata": {},
   "source": [
    "### End Tangent\n",
    "### Visualize Clustered Data"
   ]
  },
  {
   "cell_type": "code",
   "execution_count": 80,
   "metadata": {},
   "outputs": [],
   "source": [
    "# Norm the kW size\n",
    "min_size = open_pv_cluster6['size_kw'].min()\n",
    "max_size = open_pv_cluster6['size_kw'].max()\n",
    "size_range = max_size - min_size\n",
    "open_pv_cluster6['size_normed'] = (10 * (open_pv_cluster6['size_kw'] - min_size)/size_range + 1).astype(int)"
   ]
  },
  {
   "cell_type": "code",
   "execution_count": 81,
   "metadata": {},
   "outputs": [
    {
     "data": {
      "application/vnd.jupyter.widget-view+json": {
       "model_id": "f3a73c87117d4afb8315fee90ef3ffb2",
       "version_major": 2,
       "version_minor": 0
      },
      "text/plain": [
       "Figure(layout=FigureLayout(height='420px'))"
      ]
     },
     "metadata": {},
     "output_type": "display_data"
    }
   ],
   "source": [
    "fig = gmaps.figure(center = (38.8283, -98.5795), zoom_level = 4)\n",
    "counties_layer = gmaps.geojson_layer(counties_geojson, fill_color=sun_colors, stroke_color=sun_colors,\n",
    "                                     fill_opacity=0.8)\n",
    "fig.add_layer(counties_layer)\n",
    "install_locs = open_pv_cluster6[['new_lat','new_lng']]\n",
    "# hover_text = [\"Size (kW): {}\".format(row['size_kw']) for i, row in open_pv_w_loc2.iterrows()]\n",
    "size = [int(x) for i, x in open_pv_cluster6['size_normed'].iteritems()]\n",
    "fig.add_layer(gmaps.symbol_layer(install_locs, fill_opacity=.5, stroke_opacity = .5,\n",
    "                                 fill_color = 'blue',\n",
    "                                 stroke_color = 'blue', scale = size))\n",
    "fig"
   ]
  },
  {
   "cell_type": "markdown",
   "metadata": {},
   "source": [
    "### Higher unemployment and higher sunniness\n",
    "\n",
    "1. Combine unemployment rate and sunniness into a new measure using harmonic mean\n",
    "2. Plot this combined measure against solar panel installs\n",
    "3. Places where the combined rate is high and solar panel installs are low are potential untapped labor markets for green jobs"
   ]
  },
  {
   "cell_type": "code",
   "execution_count": 82,
   "metadata": {},
   "outputs": [],
   "source": [
    "from matplotlib.cm import Blues\n",
    "\n",
    "def calculate_sun_ur(sun, ur):\n",
    "    # make sunniness a number between 0 and 1\n",
    "    normalized_sun = (sun - min_sun) / sun_range\n",
    "    \n",
    "    # make ur a number between 0 and 1\n",
    "    normalized_ur = (ur - min_ur) / ur_range\n",
    "    \n",
    "    # combine both rates using harmonic mean\n",
    "    comb_rate = 2*(normalized_sun * normalized_ur)/(normalized_sun + normalized_ur)\n",
    "    \n",
    "    # transform the combined rate to a matplotlib color\n",
    "    mpl_color = Blues(normalized_sun)\n",
    "\n",
    "    # transform from a matplotlib color to a valid CSS color\n",
    "    gmaps_color = to_hex(mpl_color, keep_alpha=False)\n",
    "\n",
    "    return gmaps_color"
   ]
  },
  {
   "cell_type": "code",
   "execution_count": 83,
   "metadata": {},
   "outputs": [],
   "source": [
    "comb_colors = []\n",
    "\n",
    "for feature in counties_geojson['features']:\n",
    "    state = feature['properties']['STATE']\n",
    "    county = feature['properties']['COUNTY']\n",
    "    try:\n",
    "        sun = county2sunny[(state,county)]\n",
    "        ur = county2unemploy[(state,county)]\n",
    "        color = calculate_sun_ur(sun, ur)\n",
    "    except KeyError:\n",
    "        # no value for that county: return default color\n",
    "        color = (0, 0, 0, 0.3)\n",
    "    comb_colors.append(color)"
   ]
  },
  {
   "cell_type": "code",
   "execution_count": 84,
   "metadata": {
    "scrolled": true
   },
   "outputs": [
    {
     "data": {
      "application/vnd.jupyter.widget-view+json": {
       "model_id": "5fd6a34c6cac4954b115e0deb0c8c780",
       "version_major": 2,
       "version_minor": 0
      },
      "text/plain": [
       "Figure(layout=FigureLayout(height='420px'))"
      ]
     },
     "metadata": {},
     "output_type": "display_data"
    }
   ],
   "source": [
    "fig = gmaps.figure(center = (38.8283, -98.5795), zoom_level = 4)\n",
    "comb_counties_layer = gmaps.geojson_layer(counties_geojson, fill_color=comb_colors, stroke_color=comb_colors, fill_opacity=0.8)\n",
    "fig.add_layer(comb_counties_layer)\n",
    "install_locs = open_pv_cluster6[['new_lat','new_lng']]\n",
    "# hover_text = [\"Size (kW): {}\".format(row['size_kw']) for i, row in open_pv_w_loc2.iterrows()]\n",
    "size = [int(x) for i, x in open_pv_cluster6['size_normed'].iteritems()]\n",
    "fig.add_layer(gmaps.symbol_layer(install_locs, fill_opacity=.5, stroke_opacity = .5,\n",
    "                                 fill_color = 'blue',\n",
    "                                 stroke_color = 'blue', scale = size))\n",
    "fig"
   ]
  },
  {
   "cell_type": "markdown",
   "metadata": {},
   "source": [
    "## Solar Utilities\n",
    "### The Open PV dataset is heavily biased towards California. Get solar utility locations from EIA."
   ]
  },
  {
   "cell_type": "code",
   "execution_count": 85,
   "metadata": {},
   "outputs": [],
   "source": [
    "# Import data downloaded from https://www.eia.gov/electricity/data/eia860/\n",
    "eia_plants = pd.read_excel('/Users/seantibbitts/Downloads/eia8602017/2___Plant_Y2017.xlsx', skiprows=[0])\n",
    "eia_solar = pd.read_excel('/Users/seantibbitts/Downloads/eia8602017/3_3_Solar_Y2017.xlsx', skiprows=[0])"
   ]
  },
  {
   "cell_type": "code",
   "execution_count": 74,
   "metadata": {
    "scrolled": true
   },
   "outputs": [
    {
     "data": {
      "text/html": [
       "<div>\n",
       "<style scoped>\n",
       "    .dataframe tbody tr th:only-of-type {\n",
       "        vertical-align: middle;\n",
       "    }\n",
       "\n",
       "    .dataframe tbody tr th {\n",
       "        vertical-align: top;\n",
       "    }\n",
       "\n",
       "    .dataframe thead th {\n",
       "        text-align: right;\n",
       "    }\n",
       "</style>\n",
       "<table border=\"1\" class=\"dataframe\">\n",
       "  <thead>\n",
       "    <tr style=\"text-align: right;\">\n",
       "      <th></th>\n",
       "      <th>Utility ID</th>\n",
       "      <th>Utility Name</th>\n",
       "      <th>Plant Code</th>\n",
       "      <th>Plant Name</th>\n",
       "      <th>Street Address</th>\n",
       "      <th>City</th>\n",
       "      <th>State</th>\n",
       "      <th>Zip</th>\n",
       "      <th>County</th>\n",
       "      <th>Latitude</th>\n",
       "      <th>...</th>\n",
       "      <th>Grid Voltage 2 (kV)</th>\n",
       "      <th>Grid Voltage 3 (kV)</th>\n",
       "      <th>Energy Storage</th>\n",
       "      <th>Natural Gas LDC Name</th>\n",
       "      <th>Natural Gas Pipeline Name 1</th>\n",
       "      <th>Natural Gas Pipeline Name 2</th>\n",
       "      <th>Natural Gas Pipeline Name 3</th>\n",
       "      <th>Pipeline Notes</th>\n",
       "      <th>Natural Gas Storage</th>\n",
       "      <th>Liquefied Natural Gas Storage</th>\n",
       "    </tr>\n",
       "  </thead>\n",
       "  <tbody>\n",
       "    <tr>\n",
       "      <th>0</th>\n",
       "      <td>195</td>\n",
       "      <td>Alabama Power Co</td>\n",
       "      <td>2</td>\n",
       "      <td>Bankhead Dam</td>\n",
       "      <td>19001 Lock 17 Road</td>\n",
       "      <td>Northport</td>\n",
       "      <td>AL</td>\n",
       "      <td>35476</td>\n",
       "      <td>Tuscaloosa</td>\n",
       "      <td>33.4587</td>\n",
       "      <td>...</td>\n",
       "      <td></td>\n",
       "      <td></td>\n",
       "      <td>N</td>\n",
       "      <td>NaN</td>\n",
       "      <td>NaN</td>\n",
       "      <td>NaN</td>\n",
       "      <td>NaN</td>\n",
       "      <td>NaN</td>\n",
       "      <td>NaN</td>\n",
       "      <td>NaN</td>\n",
       "    </tr>\n",
       "    <tr>\n",
       "      <th>1</th>\n",
       "      <td>195</td>\n",
       "      <td>Alabama Power Co</td>\n",
       "      <td>3</td>\n",
       "      <td>Barry</td>\n",
       "      <td>North Highway 43</td>\n",
       "      <td>Bucks</td>\n",
       "      <td>AL</td>\n",
       "      <td>36512</td>\n",
       "      <td>Mobile</td>\n",
       "      <td>31.0069</td>\n",
       "      <td>...</td>\n",
       "      <td></td>\n",
       "      <td></td>\n",
       "      <td>N</td>\n",
       "      <td>NaN</td>\n",
       "      <td>BAY GAS STORAGE</td>\n",
       "      <td>NaN</td>\n",
       "      <td>NaN</td>\n",
       "      <td>NaN</td>\n",
       "      <td>N</td>\n",
       "      <td>X</td>\n",
       "    </tr>\n",
       "    <tr>\n",
       "      <th>2</th>\n",
       "      <td>195</td>\n",
       "      <td>Alabama Power Co</td>\n",
       "      <td>4</td>\n",
       "      <td>Walter Bouldin Dam</td>\n",
       "      <td>750 Bouldin Dam Road</td>\n",
       "      <td>Wetumpka</td>\n",
       "      <td>AL</td>\n",
       "      <td>36092</td>\n",
       "      <td>Elmore</td>\n",
       "      <td>32.5839</td>\n",
       "      <td>...</td>\n",
       "      <td></td>\n",
       "      <td></td>\n",
       "      <td>N</td>\n",
       "      <td>NaN</td>\n",
       "      <td>NaN</td>\n",
       "      <td>NaN</td>\n",
       "      <td>NaN</td>\n",
       "      <td>NaN</td>\n",
       "      <td>NaN</td>\n",
       "      <td>NaN</td>\n",
       "    </tr>\n",
       "    <tr>\n",
       "      <th>3</th>\n",
       "      <td>195</td>\n",
       "      <td>Alabama Power Co</td>\n",
       "      <td>7</td>\n",
       "      <td>Gadsden</td>\n",
       "      <td>1000 Goodyear Ave</td>\n",
       "      <td>Gadsden</td>\n",
       "      <td>AL</td>\n",
       "      <td>35903</td>\n",
       "      <td>Etowah</td>\n",
       "      <td>34.0128</td>\n",
       "      <td>...</td>\n",
       "      <td></td>\n",
       "      <td></td>\n",
       "      <td>N</td>\n",
       "      <td>NaN</td>\n",
       "      <td>SOUTHERN NATURAL GAS COMPANY</td>\n",
       "      <td>NaN</td>\n",
       "      <td>NaN</td>\n",
       "      <td>NaN</td>\n",
       "      <td>N</td>\n",
       "      <td>X</td>\n",
       "    </tr>\n",
       "    <tr>\n",
       "      <th>4</th>\n",
       "      <td>195</td>\n",
       "      <td>Alabama Power Co</td>\n",
       "      <td>8</td>\n",
       "      <td>Gorgas</td>\n",
       "      <td>460 Gorgas Road</td>\n",
       "      <td>Parrish</td>\n",
       "      <td>AL</td>\n",
       "      <td>35580</td>\n",
       "      <td>Walker</td>\n",
       "      <td>33.6443</td>\n",
       "      <td>...</td>\n",
       "      <td></td>\n",
       "      <td></td>\n",
       "      <td>N</td>\n",
       "      <td>NaN</td>\n",
       "      <td>NaN</td>\n",
       "      <td>NaN</td>\n",
       "      <td>NaN</td>\n",
       "      <td>NaN</td>\n",
       "      <td>NaN</td>\n",
       "      <td>NaN</td>\n",
       "    </tr>\n",
       "  </tbody>\n",
       "</table>\n",
       "<p>5 rows × 42 columns</p>\n",
       "</div>"
      ],
      "text/plain": [
       "   Utility ID      Utility Name  Plant Code          Plant Name  \\\n",
       "0         195  Alabama Power Co           2        Bankhead Dam   \n",
       "1         195  Alabama Power Co           3               Barry   \n",
       "2         195  Alabama Power Co           4  Walter Bouldin Dam   \n",
       "3         195  Alabama Power Co           7             Gadsden   \n",
       "4         195  Alabama Power Co           8              Gorgas   \n",
       "\n",
       "         Street Address       City State    Zip      County Latitude  \\\n",
       "0    19001 Lock 17 Road  Northport    AL  35476  Tuscaloosa  33.4587   \n",
       "1      North Highway 43      Bucks    AL  36512      Mobile  31.0069   \n",
       "2  750 Bouldin Dam Road   Wetumpka    AL  36092      Elmore  32.5839   \n",
       "3     1000 Goodyear Ave    Gadsden    AL  35903      Etowah  34.0128   \n",
       "4       460 Gorgas Road    Parrish    AL  35580      Walker  33.6443   \n",
       "\n",
       "               ...              Grid Voltage 2 (kV) Grid Voltage 3 (kV)  \\\n",
       "0              ...                                                        \n",
       "1              ...                                                        \n",
       "2              ...                                                        \n",
       "3              ...                                                        \n",
       "4              ...                                                        \n",
       "\n",
       "  Energy Storage Natural Gas LDC Name   Natural Gas Pipeline Name 1  \\\n",
       "0              N                  NaN                           NaN   \n",
       "1              N                  NaN               BAY GAS STORAGE   \n",
       "2              N                  NaN                           NaN   \n",
       "3              N                  NaN  SOUTHERN NATURAL GAS COMPANY   \n",
       "4              N                  NaN                           NaN   \n",
       "\n",
       "   Natural Gas Pipeline Name 2 Natural Gas Pipeline Name 3  Pipeline Notes  \\\n",
       "0                          NaN                         NaN             NaN   \n",
       "1                          NaN                         NaN             NaN   \n",
       "2                          NaN                         NaN             NaN   \n",
       "3                          NaN                         NaN             NaN   \n",
       "4                          NaN                         NaN             NaN   \n",
       "\n",
       "  Natural Gas Storage Liquefied Natural Gas Storage  \n",
       "0                 NaN                           NaN  \n",
       "1                   N                             X  \n",
       "2                 NaN                           NaN  \n",
       "3                   N                             X  \n",
       "4                 NaN                           NaN  \n",
       "\n",
       "[5 rows x 42 columns]"
      ]
     },
     "execution_count": 74,
     "metadata": {},
     "output_type": "execute_result"
    }
   ],
   "source": [
    "eia_plants.head()"
   ]
  },
  {
   "cell_type": "code",
   "execution_count": 86,
   "metadata": {},
   "outputs": [
    {
     "data": {
      "text/plain": [
       "Index(['Utility ID', 'Utility Name', 'Plant Code', 'Plant Name',\n",
       "       'Street Address', 'City', 'State', 'Zip', 'County', 'Latitude',\n",
       "       'Longitude', 'NERC Region', 'Balancing Authority Code',\n",
       "       'Balancing Authority Name', 'Name of Water Source',\n",
       "       'Primary Purpose (NAICS Code)', 'Regulatory Status', 'Sector',\n",
       "       'Sector Name', 'FERC Cogeneration Status',\n",
       "       'FERC Cogeneration Docket Number', 'FERC Small Power Producer Status',\n",
       "       'FERC Small Power Producer Docket Number',\n",
       "       'FERC Exempt Wholesale Generator Status',\n",
       "       'FERC Exempt Wholesale Generator Docket Number', 'Ash Impoundment?',\n",
       "       'Ash Impoundment Lined?', 'Ash Impoundment Status',\n",
       "       'Transmission or Distribution System Owner',\n",
       "       'Transmission or Distribution System Owner ID',\n",
       "       'Transmission or Distribution System Owner State', 'Grid Voltage (kV)',\n",
       "       'Grid Voltage 2 (kV)', 'Grid Voltage 3 (kV)', 'Energy Storage',\n",
       "       'Natural Gas LDC Name', 'Natural Gas Pipeline Name 1',\n",
       "       'Natural Gas Pipeline Name 2', 'Natural Gas Pipeline Name 3',\n",
       "       'Pipeline Notes', 'Natural Gas Storage',\n",
       "       'Liquefied Natural Gas Storage'],\n",
       "      dtype='object')"
      ]
     },
     "execution_count": 86,
     "metadata": {},
     "output_type": "execute_result"
    }
   ],
   "source": [
    "eia_plants.columns"
   ]
  },
  {
   "cell_type": "code",
   "execution_count": 87,
   "metadata": {},
   "outputs": [],
   "source": [
    "# Add solar plant lat/lon from EIA plant dataset\n",
    "eia_comb = pd.merge(eia_solar, eia_plants[['Plant Code','Latitude','Longitude']], how = 'left', on = 'Plant Code')"
   ]
  },
  {
   "cell_type": "code",
   "execution_count": 88,
   "metadata": {},
   "outputs": [
    {
     "data": {
      "text/html": [
       "<div>\n",
       "<style scoped>\n",
       "    .dataframe tbody tr th:only-of-type {\n",
       "        vertical-align: middle;\n",
       "    }\n",
       "\n",
       "    .dataframe tbody tr th {\n",
       "        vertical-align: top;\n",
       "    }\n",
       "\n",
       "    .dataframe thead th {\n",
       "        text-align: right;\n",
       "    }\n",
       "</style>\n",
       "<table border=\"1\" class=\"dataframe\">\n",
       "  <thead>\n",
       "    <tr style=\"text-align: right;\">\n",
       "      <th></th>\n",
       "      <th>Utility ID</th>\n",
       "      <th>Utility Name</th>\n",
       "      <th>Plant Code</th>\n",
       "      <th>Plant Name</th>\n",
       "      <th>State</th>\n",
       "      <th>County</th>\n",
       "      <th>Generator ID</th>\n",
       "      <th>Status</th>\n",
       "      <th>Technology</th>\n",
       "      <th>Prime Mover</th>\n",
       "      <th>...</th>\n",
       "      <th>Thin-Film (A-Si)?</th>\n",
       "      <th>Thin-Film (CIGS)?</th>\n",
       "      <th>Thin-Film (Other)?</th>\n",
       "      <th>Other Materials?</th>\n",
       "      <th>Net Metering Agreement?</th>\n",
       "      <th>Net Metering DC Capacity (MW)</th>\n",
       "      <th>Virtual Net Metering Agreement?</th>\n",
       "      <th>Virtual Net Metering DC Capacity (MW)</th>\n",
       "      <th>Latitude</th>\n",
       "      <th>Longitude</th>\n",
       "    </tr>\n",
       "  </thead>\n",
       "  <tbody>\n",
       "    <tr>\n",
       "      <th>0</th>\n",
       "      <td>16572</td>\n",
       "      <td>Salt River Project</td>\n",
       "      <td>141</td>\n",
       "      <td>Agua Fria</td>\n",
       "      <td>AZ</td>\n",
       "      <td>Maricopa</td>\n",
       "      <td>PV-3</td>\n",
       "      <td>OP</td>\n",
       "      <td>Solar Photovoltaic</td>\n",
       "      <td>PV</td>\n",
       "      <td>...</td>\n",
       "      <td>NaN</td>\n",
       "      <td>NaN</td>\n",
       "      <td>NaN</td>\n",
       "      <td>NaN</td>\n",
       "      <td>N</td>\n",
       "      <td></td>\n",
       "      <td>N</td>\n",
       "      <td></td>\n",
       "      <td>33.5561</td>\n",
       "      <td>-112.215</td>\n",
       "    </tr>\n",
       "    <tr>\n",
       "      <th>1</th>\n",
       "      <td>18454</td>\n",
       "      <td>Tampa Electric Co</td>\n",
       "      <td>645</td>\n",
       "      <td>Big Bend</td>\n",
       "      <td>FL</td>\n",
       "      <td>Hillsborough</td>\n",
       "      <td>1</td>\n",
       "      <td>OP</td>\n",
       "      <td>Solar Photovoltaic</td>\n",
       "      <td>PV</td>\n",
       "      <td>...</td>\n",
       "      <td>NaN</td>\n",
       "      <td>NaN</td>\n",
       "      <td>NaN</td>\n",
       "      <td>NaN</td>\n",
       "      <td>N</td>\n",
       "      <td></td>\n",
       "      <td>N</td>\n",
       "      <td></td>\n",
       "      <td>27.7944</td>\n",
       "      <td>-82.4036</td>\n",
       "    </tr>\n",
       "    <tr>\n",
       "      <th>2</th>\n",
       "      <td>7095</td>\n",
       "      <td>City of Geneseo - (IL)</td>\n",
       "      <td>944</td>\n",
       "      <td>Geneseo</td>\n",
       "      <td>IL</td>\n",
       "      <td>Henry</td>\n",
       "      <td>12</td>\n",
       "      <td>OP</td>\n",
       "      <td>Solar Photovoltaic</td>\n",
       "      <td>PV</td>\n",
       "      <td>...</td>\n",
       "      <td>NaN</td>\n",
       "      <td>NaN</td>\n",
       "      <td>NaN</td>\n",
       "      <td>NaN</td>\n",
       "      <td>N</td>\n",
       "      <td></td>\n",
       "      <td>N</td>\n",
       "      <td></td>\n",
       "      <td>41.4515</td>\n",
       "      <td>-90.1485</td>\n",
       "    </tr>\n",
       "    <tr>\n",
       "      <th>3</th>\n",
       "      <td>16179</td>\n",
       "      <td>Rochelle Municipal Utilities</td>\n",
       "      <td>960</td>\n",
       "      <td>North Ninth Street</td>\n",
       "      <td>IL</td>\n",
       "      <td>Ogle</td>\n",
       "      <td>SOL1</td>\n",
       "      <td>OP</td>\n",
       "      <td>Solar Photovoltaic</td>\n",
       "      <td>PV</td>\n",
       "      <td>...</td>\n",
       "      <td>NaN</td>\n",
       "      <td>NaN</td>\n",
       "      <td>NaN</td>\n",
       "      <td>NaN</td>\n",
       "      <td>Y</td>\n",
       "      <td>0.3</td>\n",
       "      <td>N</td>\n",
       "      <td></td>\n",
       "      <td>41.9093</td>\n",
       "      <td>-89.0498</td>\n",
       "    </tr>\n",
       "    <tr>\n",
       "      <th>4</th>\n",
       "      <td>14201</td>\n",
       "      <td>City of Osage - (IA)</td>\n",
       "      <td>1172</td>\n",
       "      <td>Osage (IA)</td>\n",
       "      <td>IA</td>\n",
       "      <td>Mitchell</td>\n",
       "      <td>SO</td>\n",
       "      <td>OP</td>\n",
       "      <td>Solar Photovoltaic</td>\n",
       "      <td>PV</td>\n",
       "      <td>...</td>\n",
       "      <td>NaN</td>\n",
       "      <td>NaN</td>\n",
       "      <td>NaN</td>\n",
       "      <td>NaN</td>\n",
       "      <td>N</td>\n",
       "      <td></td>\n",
       "      <td>N</td>\n",
       "      <td></td>\n",
       "      <td>43.2797</td>\n",
       "      <td>-92.8106</td>\n",
       "    </tr>\n",
       "  </tbody>\n",
       "</table>\n",
       "<p>5 rows × 42 columns</p>\n",
       "</div>"
      ],
      "text/plain": [
       "   Utility ID                  Utility Name  Plant Code          Plant Name  \\\n",
       "0       16572            Salt River Project         141           Agua Fria   \n",
       "1       18454             Tampa Electric Co         645            Big Bend   \n",
       "2        7095        City of Geneseo - (IL)         944             Geneseo   \n",
       "3       16179  Rochelle Municipal Utilities         960  North Ninth Street   \n",
       "4       14201          City of Osage - (IA)        1172          Osage (IA)   \n",
       "\n",
       "  State        County Generator ID Status          Technology Prime Mover  \\\n",
       "0    AZ      Maricopa         PV-3     OP  Solar Photovoltaic          PV   \n",
       "1    FL  Hillsborough            1     OP  Solar Photovoltaic          PV   \n",
       "2    IL         Henry           12     OP  Solar Photovoltaic          PV   \n",
       "3    IL          Ogle         SOL1     OP  Solar Photovoltaic          PV   \n",
       "4    IA      Mitchell           SO     OP  Solar Photovoltaic          PV   \n",
       "\n",
       "     ...    Thin-Film (A-Si)?  Thin-Film (CIGS)?  Thin-Film (Other)?  \\\n",
       "0    ...                  NaN                NaN                 NaN   \n",
       "1    ...                  NaN                NaN                 NaN   \n",
       "2    ...                  NaN                NaN                 NaN   \n",
       "3    ...                  NaN                NaN                 NaN   \n",
       "4    ...                  NaN                NaN                 NaN   \n",
       "\n",
       "   Other Materials? Net Metering Agreement?  Net Metering DC Capacity (MW)  \\\n",
       "0               NaN                       N                                  \n",
       "1               NaN                       N                                  \n",
       "2               NaN                       N                                  \n",
       "3               NaN                       Y                            0.3   \n",
       "4               NaN                       N                                  \n",
       "\n",
       "   Virtual Net Metering Agreement? Virtual Net Metering DC Capacity (MW)  \\\n",
       "0                                N                                         \n",
       "1                                N                                         \n",
       "2                                N                                         \n",
       "3                                N                                         \n",
       "4                                N                                         \n",
       "\n",
       "  Latitude Longitude  \n",
       "0  33.5561  -112.215  \n",
       "1  27.7944  -82.4036  \n",
       "2  41.4515  -90.1485  \n",
       "3  41.9093  -89.0498  \n",
       "4  43.2797  -92.8106  \n",
       "\n",
       "[5 rows x 42 columns]"
      ]
     },
     "execution_count": 88,
     "metadata": {},
     "output_type": "execute_result"
    }
   ],
   "source": [
    "eia_comb.head()"
   ]
  },
  {
   "cell_type": "code",
   "execution_count": 89,
   "metadata": {},
   "outputs": [
    {
     "data": {
      "text/plain": [
       "Index(['Utility ID', 'Utility Name', 'Plant Code', 'Plant Name', 'State',\n",
       "       'County', 'Generator ID', 'Status', 'Technology', 'Prime Mover',\n",
       "       'Sector Name', 'Sector', 'Nameplate Capacity (MW)',\n",
       "       'Summer Capacity (MW)', 'Winter Capacity (MW)', 'Operating Month',\n",
       "       'Operating Year', 'Lenses / Mirrors?', 'Single-Axis Tracking?',\n",
       "       'Dual-Axis Tracking?', 'Fixed Tilt?', 'East West Fixed Tilt?',\n",
       "       'Parabolic Trough?', 'Linear Fresnel?', 'Power Tower?', 'Dish Engine?',\n",
       "       'Other Solar Technology?', 'Azimuth Angle', 'Tilt Angle',\n",
       "       'DC Net Capacity (MW)', 'Crystalline Silicon?', 'Thin-Film (CdTe)?',\n",
       "       'Thin-Film (A-Si)?', 'Thin-Film (CIGS)?', 'Thin-Film (Other)?',\n",
       "       'Other Materials?', 'Net Metering Agreement?',\n",
       "       'Net Metering DC Capacity (MW)', 'Virtual Net Metering Agreement?',\n",
       "       'Virtual Net Metering DC Capacity (MW)', 'Latitude', 'Longitude'],\n",
       "      dtype='object')"
      ]
     },
     "execution_count": 89,
     "metadata": {},
     "output_type": "execute_result"
    }
   ],
   "source": [
    "eia_comb.columns"
   ]
  },
  {
   "cell_type": "code",
   "execution_count": 90,
   "metadata": {},
   "outputs": [
    {
     "data": {
      "text/plain": [
       "dtype('O')"
      ]
     },
     "execution_count": 90,
     "metadata": {},
     "output_type": "execute_result"
    }
   ],
   "source": [
    "eia_comb['DC Net Capacity (MW)'].dtype"
   ]
  },
  {
   "cell_type": "code",
   "execution_count": 91,
   "metadata": {},
   "outputs": [],
   "source": [
    "pd.options.display.max_rows = 200"
   ]
  },
  {
   "cell_type": "code",
   "execution_count": 92,
   "metadata": {},
   "outputs": [
    {
     "data": {
      "text/plain": [
       "(2839, 42)"
      ]
     },
     "execution_count": 92,
     "metadata": {},
     "output_type": "execute_result"
    }
   ],
   "source": [
    "eia_comb.shape"
   ]
  },
  {
   "cell_type": "code",
   "execution_count": 93,
   "metadata": {},
   "outputs": [],
   "source": [
    "# Eliminate rows with empty capacity\n",
    "eia_comb2 = eia_comb[eia_comb['DC Net Capacity (MW)']!=' '].copy()"
   ]
  },
  {
   "cell_type": "code",
   "execution_count": 94,
   "metadata": {},
   "outputs": [],
   "source": [
    "eia_comb2['Capacity'] = eia_comb2['DC Net Capacity (MW)'].astype(float)"
   ]
  },
  {
   "cell_type": "markdown",
   "metadata": {},
   "source": [
    "## Cluster Solar Utilities Data for Visualization\n",
    "### 2839 data points still too many. Cluster with KMeans."
   ]
  },
  {
   "cell_type": "code",
   "execution_count": 95,
   "metadata": {},
   "outputs": [
    {
     "name": "stdout",
     "output_type": "stream",
     "text": [
      "2019-04-11 20:20:16.403936\n"
     ]
    },
    {
     "name": "stderr",
     "output_type": "stream",
     "text": [
      "/anaconda3/lib/python3.7/site-packages/sklearn/cluster/k_means_.py:1559: RuntimeWarning: init_size=300 should be larger than k=1000. Setting it to 3*k\n",
      "  init_size=init_size)\n",
      "/anaconda3/lib/python3.7/site-packages/sklearn/cluster/k_means_.py:1559: RuntimeWarning: init_size=300 should be larger than k=1000. Setting it to 3*k\n",
      "  init_size=init_size)\n",
      "/anaconda3/lib/python3.7/site-packages/sklearn/cluster/k_means_.py:1559: RuntimeWarning: init_size=300 should be larger than k=1000. Setting it to 3*k\n",
      "  init_size=init_size)\n"
     ]
    },
    {
     "name": "stdout",
     "output_type": "stream",
     "text": [
      "2019-04-11 20:20:17.704643\n"
     ]
    }
   ],
   "source": [
    "print(datetime.now())\n",
    "\n",
    "X = eia_comb2[['Latitude','Longitude']]\n",
    "\n",
    "kmeans_eia = MiniBatchKMeans(n_clusters=1000, random_state=0, batch_size=100).fit(X)\n",
    "\n",
    "print(datetime.now())"
   ]
  },
  {
   "cell_type": "code",
   "execution_count": 96,
   "metadata": {},
   "outputs": [],
   "source": [
    "eia_comb2['new_loc_ind'] = kmeans_eia.predict(X)"
   ]
  },
  {
   "cell_type": "code",
   "execution_count": 97,
   "metadata": {},
   "outputs": [],
   "source": [
    "new_locs = pd.DataFrame(kmeans_eia.cluster_centers_, columns = ['new_lat','new_lng'])"
   ]
  },
  {
   "cell_type": "code",
   "execution_count": 98,
   "metadata": {},
   "outputs": [
    {
     "data": {
      "text/plain": [
       "(1000, 2)"
      ]
     },
     "execution_count": 98,
     "metadata": {},
     "output_type": "execute_result"
    }
   ],
   "source": [
    "new_locs.shape"
   ]
  },
  {
   "cell_type": "code",
   "execution_count": 99,
   "metadata": {},
   "outputs": [],
   "source": [
    "eia_comb3 = pd.merge(eia_comb2, new_locs, how = 'left', left_on = 'new_loc_ind', right_index = True)"
   ]
  },
  {
   "cell_type": "code",
   "execution_count": 100,
   "metadata": {},
   "outputs": [
    {
     "data": {
      "text/html": [
       "<div>\n",
       "<style scoped>\n",
       "    .dataframe tbody tr th:only-of-type {\n",
       "        vertical-align: middle;\n",
       "    }\n",
       "\n",
       "    .dataframe tbody tr th {\n",
       "        vertical-align: top;\n",
       "    }\n",
       "\n",
       "    .dataframe thead th {\n",
       "        text-align: right;\n",
       "    }\n",
       "</style>\n",
       "<table border=\"1\" class=\"dataframe\">\n",
       "  <thead>\n",
       "    <tr style=\"text-align: right;\">\n",
       "      <th></th>\n",
       "      <th>Utility ID</th>\n",
       "      <th>Utility Name</th>\n",
       "      <th>Plant Code</th>\n",
       "      <th>Plant Name</th>\n",
       "      <th>State</th>\n",
       "      <th>County</th>\n",
       "      <th>Generator ID</th>\n",
       "      <th>Status</th>\n",
       "      <th>Technology</th>\n",
       "      <th>Prime Mover</th>\n",
       "      <th>...</th>\n",
       "      <th>Net Metering Agreement?</th>\n",
       "      <th>Net Metering DC Capacity (MW)</th>\n",
       "      <th>Virtual Net Metering Agreement?</th>\n",
       "      <th>Virtual Net Metering DC Capacity (MW)</th>\n",
       "      <th>Latitude</th>\n",
       "      <th>Longitude</th>\n",
       "      <th>Capacity</th>\n",
       "      <th>new_loc_ind</th>\n",
       "      <th>new_lat</th>\n",
       "      <th>new_lng</th>\n",
       "    </tr>\n",
       "  </thead>\n",
       "  <tbody>\n",
       "    <tr>\n",
       "      <th>0</th>\n",
       "      <td>16572</td>\n",
       "      <td>Salt River Project</td>\n",
       "      <td>141</td>\n",
       "      <td>Agua Fria</td>\n",
       "      <td>AZ</td>\n",
       "      <td>Maricopa</td>\n",
       "      <td>PV-3</td>\n",
       "      <td>OP</td>\n",
       "      <td>Solar Photovoltaic</td>\n",
       "      <td>PV</td>\n",
       "      <td>...</td>\n",
       "      <td>N</td>\n",
       "      <td></td>\n",
       "      <td>N</td>\n",
       "      <td></td>\n",
       "      <td>33.5561</td>\n",
       "      <td>-112.215</td>\n",
       "      <td>0.2</td>\n",
       "      <td>8</td>\n",
       "      <td>33.542707</td>\n",
       "      <td>-112.086613</td>\n",
       "    </tr>\n",
       "    <tr>\n",
       "      <th>1</th>\n",
       "      <td>18454</td>\n",
       "      <td>Tampa Electric Co</td>\n",
       "      <td>645</td>\n",
       "      <td>Big Bend</td>\n",
       "      <td>FL</td>\n",
       "      <td>Hillsborough</td>\n",
       "      <td>1</td>\n",
       "      <td>OP</td>\n",
       "      <td>Solar Photovoltaic</td>\n",
       "      <td>PV</td>\n",
       "      <td>...</td>\n",
       "      <td>N</td>\n",
       "      <td></td>\n",
       "      <td>N</td>\n",
       "      <td></td>\n",
       "      <td>27.7944</td>\n",
       "      <td>-82.4036</td>\n",
       "      <td>23.0</td>\n",
       "      <td>371</td>\n",
       "      <td>27.794400</td>\n",
       "      <td>-82.403600</td>\n",
       "    </tr>\n",
       "    <tr>\n",
       "      <th>2</th>\n",
       "      <td>7095</td>\n",
       "      <td>City of Geneseo - (IL)</td>\n",
       "      <td>944</td>\n",
       "      <td>Geneseo</td>\n",
       "      <td>IL</td>\n",
       "      <td>Henry</td>\n",
       "      <td>12</td>\n",
       "      <td>OP</td>\n",
       "      <td>Solar Photovoltaic</td>\n",
       "      <td>PV</td>\n",
       "      <td>...</td>\n",
       "      <td>N</td>\n",
       "      <td></td>\n",
       "      <td>N</td>\n",
       "      <td></td>\n",
       "      <td>41.4515</td>\n",
       "      <td>-90.1485</td>\n",
       "      <td>1.2</td>\n",
       "      <td>260</td>\n",
       "      <td>41.451494</td>\n",
       "      <td>-90.148547</td>\n",
       "    </tr>\n",
       "    <tr>\n",
       "      <th>3</th>\n",
       "      <td>16179</td>\n",
       "      <td>Rochelle Municipal Utilities</td>\n",
       "      <td>960</td>\n",
       "      <td>North Ninth Street</td>\n",
       "      <td>IL</td>\n",
       "      <td>Ogle</td>\n",
       "      <td>SOL1</td>\n",
       "      <td>OP</td>\n",
       "      <td>Solar Photovoltaic</td>\n",
       "      <td>PV</td>\n",
       "      <td>...</td>\n",
       "      <td>Y</td>\n",
       "      <td>0.3</td>\n",
       "      <td>N</td>\n",
       "      <td></td>\n",
       "      <td>41.9093</td>\n",
       "      <td>-89.0498</td>\n",
       "      <td>0.3</td>\n",
       "      <td>165</td>\n",
       "      <td>41.909300</td>\n",
       "      <td>-89.049800</td>\n",
       "    </tr>\n",
       "    <tr>\n",
       "      <th>4</th>\n",
       "      <td>14201</td>\n",
       "      <td>City of Osage - (IA)</td>\n",
       "      <td>1172</td>\n",
       "      <td>Osage (IA)</td>\n",
       "      <td>IA</td>\n",
       "      <td>Mitchell</td>\n",
       "      <td>SO</td>\n",
       "      <td>OP</td>\n",
       "      <td>Solar Photovoltaic</td>\n",
       "      <td>PV</td>\n",
       "      <td>...</td>\n",
       "      <td>N</td>\n",
       "      <td></td>\n",
       "      <td>N</td>\n",
       "      <td></td>\n",
       "      <td>43.2797</td>\n",
       "      <td>-92.8106</td>\n",
       "      <td>0.9</td>\n",
       "      <td>203</td>\n",
       "      <td>43.279722</td>\n",
       "      <td>-92.810556</td>\n",
       "    </tr>\n",
       "  </tbody>\n",
       "</table>\n",
       "<p>5 rows × 46 columns</p>\n",
       "</div>"
      ],
      "text/plain": [
       "   Utility ID                  Utility Name  Plant Code          Plant Name  \\\n",
       "0       16572            Salt River Project         141           Agua Fria   \n",
       "1       18454             Tampa Electric Co         645            Big Bend   \n",
       "2        7095        City of Geneseo - (IL)         944             Geneseo   \n",
       "3       16179  Rochelle Municipal Utilities         960  North Ninth Street   \n",
       "4       14201          City of Osage - (IA)        1172          Osage (IA)   \n",
       "\n",
       "  State        County Generator ID Status          Technology Prime Mover  \\\n",
       "0    AZ      Maricopa         PV-3     OP  Solar Photovoltaic          PV   \n",
       "1    FL  Hillsborough            1     OP  Solar Photovoltaic          PV   \n",
       "2    IL         Henry           12     OP  Solar Photovoltaic          PV   \n",
       "3    IL          Ogle         SOL1     OP  Solar Photovoltaic          PV   \n",
       "4    IA      Mitchell           SO     OP  Solar Photovoltaic          PV   \n",
       "\n",
       "      ...     Net Metering Agreement?  Net Metering DC Capacity (MW)  \\\n",
       "0     ...                           N                                  \n",
       "1     ...                           N                                  \n",
       "2     ...                           N                                  \n",
       "3     ...                           Y                            0.3   \n",
       "4     ...                           N                                  \n",
       "\n",
       "   Virtual Net Metering Agreement?  Virtual Net Metering DC Capacity (MW)  \\\n",
       "0                                N                                          \n",
       "1                                N                                          \n",
       "2                                N                                          \n",
       "3                                N                                          \n",
       "4                                N                                          \n",
       "\n",
       "  Latitude  Longitude  Capacity new_loc_ind    new_lat     new_lng  \n",
       "0  33.5561   -112.215       0.2           8  33.542707 -112.086613  \n",
       "1  27.7944   -82.4036      23.0         371  27.794400  -82.403600  \n",
       "2  41.4515   -90.1485       1.2         260  41.451494  -90.148547  \n",
       "3  41.9093   -89.0498       0.3         165  41.909300  -89.049800  \n",
       "4  43.2797   -92.8106       0.9         203  43.279722  -92.810556  \n",
       "\n",
       "[5 rows x 46 columns]"
      ]
     },
     "execution_count": 100,
     "metadata": {},
     "output_type": "execute_result"
    }
   ],
   "source": [
    "eia_comb3.head()"
   ]
  },
  {
   "cell_type": "code",
   "execution_count": 101,
   "metadata": {},
   "outputs": [],
   "source": [
    "# Combine the clustered (re-mapped) points and sum the MW sizes of the installs\n",
    "eia_comb4 = eia_comb3.groupby(['new_loc_ind','new_lat','new_lng'])['Capacity'].sum().reset_index()"
   ]
  },
  {
   "cell_type": "code",
   "execution_count": 102,
   "metadata": {},
   "outputs": [
    {
     "data": {
      "text/plain": [
       "(985, 4)"
      ]
     },
     "execution_count": 102,
     "metadata": {},
     "output_type": "execute_result"
    }
   ],
   "source": [
    "eia_comb4.shape"
   ]
  },
  {
   "cell_type": "code",
   "execution_count": 103,
   "metadata": {},
   "outputs": [
    {
     "data": {
      "text/html": [
       "<div>\n",
       "<style scoped>\n",
       "    .dataframe tbody tr th:only-of-type {\n",
       "        vertical-align: middle;\n",
       "    }\n",
       "\n",
       "    .dataframe tbody tr th {\n",
       "        vertical-align: top;\n",
       "    }\n",
       "\n",
       "    .dataframe thead th {\n",
       "        text-align: right;\n",
       "    }\n",
       "</style>\n",
       "<table border=\"1\" class=\"dataframe\">\n",
       "  <thead>\n",
       "    <tr style=\"text-align: right;\">\n",
       "      <th></th>\n",
       "      <th>new_loc_ind</th>\n",
       "      <th>new_lat</th>\n",
       "      <th>new_lng</th>\n",
       "      <th>Capacity</th>\n",
       "    </tr>\n",
       "  </thead>\n",
       "  <tbody>\n",
       "    <tr>\n",
       "      <th>0</th>\n",
       "      <td>0</td>\n",
       "      <td>44.085251</td>\n",
       "      <td>-93.324513</td>\n",
       "      <td>19.5</td>\n",
       "    </tr>\n",
       "    <tr>\n",
       "      <th>1</th>\n",
       "      <td>1</td>\n",
       "      <td>34.680628</td>\n",
       "      <td>-118.303482</td>\n",
       "      <td>324.3</td>\n",
       "    </tr>\n",
       "    <tr>\n",
       "      <th>2</th>\n",
       "      <td>2</td>\n",
       "      <td>39.414025</td>\n",
       "      <td>-75.044175</td>\n",
       "      <td>19.0</td>\n",
       "    </tr>\n",
       "    <tr>\n",
       "      <th>3</th>\n",
       "      <td>3</td>\n",
       "      <td>20.766700</td>\n",
       "      <td>-156.923300</td>\n",
       "      <td>1.2</td>\n",
       "    </tr>\n",
       "    <tr>\n",
       "      <th>4</th>\n",
       "      <td>4</td>\n",
       "      <td>35.326100</td>\n",
       "      <td>-80.996700</td>\n",
       "      <td>1.2</td>\n",
       "    </tr>\n",
       "  </tbody>\n",
       "</table>\n",
       "</div>"
      ],
      "text/plain": [
       "   new_loc_ind    new_lat     new_lng  Capacity\n",
       "0            0  44.085251  -93.324513      19.5\n",
       "1            1  34.680628 -118.303482     324.3\n",
       "2            2  39.414025  -75.044175      19.0\n",
       "3            3  20.766700 -156.923300       1.2\n",
       "4            4  35.326100  -80.996700       1.2"
      ]
     },
     "execution_count": 103,
     "metadata": {},
     "output_type": "execute_result"
    }
   ],
   "source": [
    "eia_comb4.head()"
   ]
  },
  {
   "cell_type": "code",
   "execution_count": 104,
   "metadata": {},
   "outputs": [],
   "source": [
    "# Norm capacity\n",
    "min_size_cap = eia_comb4['Capacity'].min()\n",
    "max_size_cap = eia_comb4['Capacity'].max()\n",
    "size_range_cap = max_size_cap - min_size_cap\n",
    "eia_comb4['cap_normed'] = (10 * (eia_comb4['Capacity'] - min_size_cap)/size_range_cap + 1).astype(int)"
   ]
  },
  {
   "cell_type": "code",
   "execution_count": 105,
   "metadata": {},
   "outputs": [],
   "source": [
    "fig = gmaps.figure(center = (38.8283, -98.5795), zoom_level = 4)\n",
    "comb_counties_layer = gmaps.geojson_layer(counties_geojson, fill_color=comb_colors, stroke_color=comb_colors,\n",
    "                                          fill_opacity=0.8)\n",
    "fig.add_layer(comb_counties_layer)\n",
    "eia_locs = eia_comb4[['new_lat','new_lng']]\n",
    "eia_sizes = [int(x) for i, x in eia_comb4['cap_normed'].iteritems()]"
   ]
  },
  {
   "cell_type": "code",
   "execution_count": 106,
   "metadata": {},
   "outputs": [],
   "source": [
    "eia_layer = gmaps.symbol_layer(eia_locs, scale=eia_sizes, fill_opacity=.3, stroke_opacity=.3, stroke_color = 'yellow',\n",
    "                               fill_color = 'yellow')"
   ]
  },
  {
   "cell_type": "code",
   "execution_count": 107,
   "metadata": {
    "scrolled": false
   },
   "outputs": [
    {
     "data": {
      "application/vnd.jupyter.widget-view+json": {
       "model_id": "98f2555a4f3a46d6893de5b65d8cde04",
       "version_major": 2,
       "version_minor": 0
      },
      "text/plain": [
       "Figure(layout=FigureLayout(height='420px'))"
      ]
     },
     "metadata": {},
     "output_type": "display_data"
    }
   ],
   "source": [
    "fig.add_layer(eia_layer)\n",
    "fig"
   ]
  }
 ],
 "metadata": {
  "kernelspec": {
   "display_name": "Python 3",
   "language": "python",
   "name": "python3"
  },
  "language_info": {
   "codemirror_mode": {
    "name": "ipython",
    "version": 3
   },
   "file_extension": ".py",
   "mimetype": "text/x-python",
   "name": "python",
   "nbconvert_exporter": "python",
   "pygments_lexer": "ipython3",
   "version": "3.7.1"
  }
 },
 "nbformat": 4,
 "nbformat_minor": 2
}
